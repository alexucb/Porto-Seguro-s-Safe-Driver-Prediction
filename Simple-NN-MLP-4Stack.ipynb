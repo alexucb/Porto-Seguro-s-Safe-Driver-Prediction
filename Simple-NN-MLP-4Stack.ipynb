{
 "cells": [
  {
   "cell_type": "code",
   "execution_count": 1,
   "metadata": {
    "collapsed": true
   },
   "outputs": [],
   "source": [
    "import pandas as pd\n",
    "import numpy as np\n",
    "\n",
    "def FeatureEngineering(trainpath,testpath):\n",
    "    #### Load Data\n",
    "    train = pd.read_csv(trainpath)\n",
    "    test = pd.read_csv(testpath)\n",
    "\n",
    "    ### \n",
    "    y = train['target'].values\n",
    "    testid= test['id'].values\n",
    "    \n",
    "    ### Drop calc\n",
    "    unwanted = train.columns[train.columns.str.startswith('ps_calc_')]\n",
    "    train = train.drop(unwanted, axis=1)  \n",
    "    test = test.drop(unwanted, axis=1)\n",
    "\n",
    "    train.drop(['id','target'],axis=1,inplace=True)\n",
    "    test.drop(['id'],axis=1,inplace=True)\n",
    "\n",
    "\n",
    "    \n",
    "    trainX = np.array(train)\n",
    "    testX = np.array(test)\n",
    "    trainy = np.array(y)\n",
    "    \n",
    "    return trainX, trainy, testX"
   ]
  },
  {
   "cell_type": "code",
   "execution_count": 14,
   "metadata": {
    "collapsed": true
   },
   "outputs": [],
   "source": [
    "from sklearn.model_selection import StratifiedKFold, train_test_split\n",
    "from sklearn.preprocessing import StandardScaler\n",
    "\n",
    "\n",
    "class Clf4Stack_NNMLP(object):\n",
    "    def __init__(self, model, max_iter=500, n_splits=5):\n",
    "        self.n_splits = n_splits\n",
    "        self.model = model\n",
    "        self.max_iter = max_iter\n",
    "        \n",
    "\n",
    "    def fit_predict(self, trainX, trainy, testX):\n",
    "\n",
    "        self.train4stackNNMLP = np.zeros(len(trainX))\n",
    "        self.test4stackNNMLP = np.zeros(len(testX))\n",
    "\n",
    "        skf = StratifiedKFold(n_splits=self.n_splits, shuffle=True, random_state=0)\n",
    "\n",
    "        for i, (train_index,test_index) in enumerate(skf.split(trainX, trainy)):\n",
    "            print(\"=====Round {0}/{1}=====\".format(i+1,self.n_splits))\n",
    "            X_train, X_test = trainX[train_index], trainX[test_index]\n",
    "            y_train, y_test = trainy[train_index], trainy[test_index]\n",
    "\t    \n",
    "            scaler = StandardScaler()\n",
    "            # Fit only to the training data\n",
    "            scaler.fit(X_train)\n",
    "\n",
    "            # Now apply the transformations to the data:\n",
    "            X_train = scaler.transform(X_train)\n",
    "            X_test = scaler.transform(X_test)\n",
    "\n",
    "            x1, x2, y1, y2 = train_test_split(X_train, y_train, test_size=0.25, random_state=99)\n",
    "            \n",
    "            self.model.fit(x1, y1)            \n",
    "            \n",
    "            y_pred = self.model.predict_proba(X_test)[:,1]\n",
    "            self.train4stackNNMLP[test_index] = y_pred\n",
    "            self.test4stackNNMLP += self.model.predict_proba(testX)[:,1]\n",
    "        \n",
    "        self.test4stackNNMLP /= self.n_splits\n",
    "            \n",
    "    def output(self,train_file_name='train4stackNNMLP.csv',\n",
    "                    test_file_name='test4stackNNMLP.csv',\n",
    "                    col_name='F4stack'):\n",
    "\n",
    "        pd.DataFrame({col_name:self.train4stackNNMLP}).to_csv(train_file_name,index=False) \n",
    "        pd.DataFrame({col_name:self.test4stackNNMLP}).to_csv(test_file_name,index=False)\n"
   ]
  },
  {
   "cell_type": "code",
   "execution_count": 15,
   "metadata": {
    "collapsed": true
   },
   "outputs": [],
   "source": [
    "from sklearn.neural_network import MLPClassifier\n",
    "\n",
    "mlp = MLPClassifier(hidden_layer_sizes=(30,30,30),early_stopping=True)"
   ]
  },
  {
   "cell_type": "code",
   "execution_count": 6,
   "metadata": {},
   "outputs": [],
   "source": [
    "trainpath = \"train.csv\"\n",
    "testpath = \"test.csv\"\n",
    "\n",
    "trainX, trainy, testX = FeatureEngineering(trainpath,testpath)"
   ]
  },
  {
   "cell_type": "code",
   "execution_count": 16,
   "metadata": {},
   "outputs": [
    {
     "name": "stdout",
     "output_type": "stream",
     "text": [
      "=====Round 1/5=====\n",
      "=====Round 2/5=====\n",
      "=====Round 3/5=====\n",
      "=====Round 4/5=====\n",
      "=====Round 5/5=====\n"
     ]
    }
   ],
   "source": [
    "C4S = Clf4Stack_NNMLP(mlp, max_iter=500, n_splits=5)\n",
    "\n",
    "C4S.fit_predict(trainX, trainy, testX)\n",
    "\n",
    "C4S.output()"
   ]
  },
  {
   "cell_type": "code",
   "execution_count": 17,
   "metadata": {
    "collapsed": true
   },
   "outputs": [],
   "source": [
    "def gini(actual, pred, cmpcol = 0, sortcol = 1):\n",
    "    assert( len(actual) == len(pred) )\n",
    "    all = np.asarray(np.c_[ actual, pred, np.arange(len(actual)) ], dtype=np.float)\n",
    "    all = all[ np.lexsort((all[:,2], -1*all[:,1])) ]\n",
    "    totalLosses = all[:,0].sum()\n",
    "    giniSum = all[:,0].cumsum().sum() / totalLosses\n",
    " \n",
    "    giniSum -= (len(actual) + 1) / 2.\n",
    "    return giniSum / len(actual)\n",
    " \n",
    "def gini_normalized(a, p):\n",
    "    return gini(a, p) / gini(a, a)"
   ]
  },
  {
   "cell_type": "code",
   "execution_count": 21,
   "metadata": {},
   "outputs": [
    {
     "data": {
      "text/plain": [
       "0.024868745303800479"
      ]
     },
     "execution_count": 21,
     "metadata": {},
     "output_type": "execute_result"
    }
   ],
   "source": [
    "gini_normalized(C4S.train4stackNNMLP,trainy)\n"
   ]
  },
  {
   "cell_type": "code",
   "execution_count": null,
   "metadata": {
    "collapsed": true
   },
   "outputs": [],
   "source": [
    "#gini_normalized(C4S.test4stackNNMLP,y_test)"
   ]
  },
  {
   "cell_type": "code",
   "execution_count": null,
   "metadata": {
    "collapsed": true
   },
   "outputs": [],
   "source": []
  }
 ],
 "metadata": {
  "kernelspec": {
   "display_name": "Python 3",
   "language": "python",
   "name": "python3"
  },
  "language_info": {
   "codemirror_mode": {
    "name": "ipython",
    "version": 3
   },
   "file_extension": ".py",
   "mimetype": "text/x-python",
   "name": "python",
   "nbconvert_exporter": "python",
   "pygments_lexer": "ipython3",
   "version": "3.6.2"
  }
 },
 "nbformat": 4,
 "nbformat_minor": 2
}
