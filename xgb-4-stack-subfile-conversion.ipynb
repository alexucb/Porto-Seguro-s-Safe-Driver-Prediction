{
 "cells": [
  {
   "cell_type": "code",
   "execution_count": 2,
   "metadata": {},
   "outputs": [
    {
     "data": {
      "text/plain": [
       "(892816, 1)"
      ]
     },
     "execution_count": 2,
     "metadata": {},
     "output_type": "execute_result"
    }
   ],
   "source": [
    "import pandas as pd\n",
    "test=pd.read_csv('test4stack.csv')\n",
    "test.shape"
   ]
  },
  {
   "cell_type": "code",
   "execution_count": 3,
   "metadata": {},
   "outputs": [
    {
     "data": {
      "text/plain": [
       "(892816, 38)"
      ]
     },
     "execution_count": 3,
     "metadata": {},
     "output_type": "execute_result"
    }
   ],
   "source": [
    "#get 'id' from orginal test file \n",
    "test2 = pd.read_csv('test.csv', na_values=-1)\n",
    "train = pd.read_csv('train.csv', na_values=-1)\n",
    "col_to_drop = train.columns[train.columns.str.startswith('ps_calc_')]\n",
    "test2 = test2.drop(col_to_drop, axis=1)\n",
    "test2.shape"
   ]
  },
  {
   "cell_type": "code",
   "execution_count": 4,
   "metadata": {},
   "outputs": [
    {
     "data": {
      "text/plain": [
       "(892816, 2)"
      ]
     },
     "execution_count": 4,
     "metadata": {},
     "output_type": "execute_result"
    }
   ],
   "source": [
    "sub=test2['id'].to_frame()\n",
    "sub['target']=test\n",
    "sub.shape"
   ]
  },
  {
   "cell_type": "code",
   "execution_count": 6,
   "metadata": {},
   "outputs": [
    {
     "data": {
      "text/plain": [
       "<bound method NDFrame.head of              id    target\n",
       "0             0  0.026565\n",
       "1             1  0.028080\n",
       "2             2  0.024853\n",
       "3             3  0.014689\n",
       "4             4  0.034055\n",
       "5             5  0.040666\n",
       "6             6  0.014884\n",
       "7             8  0.036271\n",
       "8            10  0.050654\n",
       "9            11  0.056813\n",
       "10           12  0.028306\n",
       "11           14  0.024035\n",
       "12           15  0.044335\n",
       "13           18  0.044371\n",
       "14           21  0.041958\n",
       "15           23  0.021556\n",
       "16           24  0.022816\n",
       "17           25  0.049302\n",
       "18           27  0.013737\n",
       "19           29  0.056581\n",
       "20           30  0.034810\n",
       "21           31  0.053582\n",
       "22           32  0.060897\n",
       "23           33  0.015411\n",
       "24           37  0.025189\n",
       "25           38  0.027186\n",
       "26           39  0.088801\n",
       "27           40  0.038120\n",
       "28           41  0.025423\n",
       "29           42  0.017881\n",
       "...         ...       ...\n",
       "892786  1487982  0.016659\n",
       "892787  1487984  0.036313\n",
       "892788  1487985  0.032944\n",
       "892789  1487986  0.033247\n",
       "892790  1487987  0.030972\n",
       "892791  1487989  0.027685\n",
       "892792  1487991  0.028572\n",
       "892793  1487993  0.039207\n",
       "892794  1487995  0.023379\n",
       "892795  1487997  0.035352\n",
       "892796  1487998  0.047058\n",
       "892797  1487999  0.060777\n",
       "892798  1488000  0.039123\n",
       "892799  1488002  0.097685\n",
       "892800  1488003  0.026201\n",
       "892801  1488004  0.030466\n",
       "892802  1488006  0.026132\n",
       "892803  1488007  0.030948\n",
       "892804  1488010  0.040109\n",
       "892805  1488012  0.034922\n",
       "892806  1488014  0.024678\n",
       "892807  1488015  0.025972\n",
       "892808  1488018  0.024059\n",
       "892809  1488019  0.016124\n",
       "892810  1488020  0.020600\n",
       "892811  1488022  0.101771\n",
       "892812  1488023  0.040084\n",
       "892813  1488024  0.037088\n",
       "892814  1488025  0.022891\n",
       "892815  1488026  0.032443\n",
       "\n",
       "[892816 rows x 2 columns]>"
      ]
     },
     "execution_count": 6,
     "metadata": {},
     "output_type": "execute_result"
    }
   ],
   "source": [
    "sub.to_csv('sub1031.csv', index=False, float_format='%.5f')\n",
    "sub.head"
   ]
  },
  {
   "cell_type": "code",
   "execution_count": null,
   "metadata": {
    "collapsed": true
   },
   "outputs": [],
   "source": []
  }
 ],
 "metadata": {
  "kernelspec": {
   "display_name": "Python 3",
   "language": "python",
   "name": "python3"
  },
  "language_info": {
   "codemirror_mode": {
    "name": "ipython",
    "version": 3
   },
   "file_extension": ".py",
   "mimetype": "text/x-python",
   "name": "python",
   "nbconvert_exporter": "python",
   "pygments_lexer": "ipython3",
   "version": "3.6.2"
  }
 },
 "nbformat": 4,
 "nbformat_minor": 2
}
