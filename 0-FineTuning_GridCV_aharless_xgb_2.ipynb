{
 "cells": [
  {
   "cell_type": "code",
   "execution_count": 2,
   "metadata": {},
   "outputs": [],
   "source": [
    "import numpy as np\n",
    "import pandas as pd\n",
    "from xgboost import XGBClassifier\n",
    "from sklearn.model_selection import train_test_split\n",
    "from sklearn.model_selection import KFold\n",
    "from sklearn.preprocessing import LabelEncoder\n",
    "# from numba import jit\n",
    "import time\n",
    "import gc"
   ]
  },
  {
   "cell_type": "code",
   "execution_count": 3,
   "metadata": {
    "collapsed": true
   },
   "outputs": [],
   "source": [
    "# Compute gini\n",
    "# from CPMP's kernel https://www.kaggle.com/cpmpml/extremely-fast-gini-computation\n",
    "# @jit\n",
    "def eval_gini(y_true, y_prob):\n",
    "    y_true = np.asarray(y_true)\n",
    "    y_true = y_true[np.argsort(y_prob)]\n",
    "    ntrue = 0\n",
    "    gini = 0\n",
    "    delta = 0\n",
    "    n = len(y_true)\n",
    "    for i in range(n-1, -1, -1):\n",
    "        y_i = y_true[i]\n",
    "        ntrue += y_i\n",
    "        gini += y_i * delta\n",
    "        delta += 1 - y_i\n",
    "    gini = 1 - 2 * gini / (ntrue * (n - ntrue))\n",
    "    return gini"
   ]
  },
  {
   "cell_type": "code",
   "execution_count": 4,
   "metadata": {
    "collapsed": true
   },
   "outputs": [],
   "source": [
    "# Funcitons from olivier's kernel\n",
    "# https://www.kaggle.com/ogrellier/xgb-classifier-upsampling-lb-0-283\n",
    "\n",
    "def gini_xgb(preds, dtrain):\n",
    "    labels = dtrain.get_label()\n",
    "    gini_score = -eval_gini(labels, preds)\n",
    "    return [('gini', gini_score)]\n",
    "\n",
    "\n",
    "def add_noise(series, noise_level):\n",
    "    return series * (1 + noise_level * np.random.randn(len(series)))\n",
    "\n",
    "\n",
    "def target_encode(trn_series=None,    # Revised to encode validation series\n",
    "                  val_series=None,\n",
    "                  tst_series=None,\n",
    "                  target=None,\n",
    "                  min_samples_leaf=1,\n",
    "                  smoothing=1,\n",
    "                  noise_level=0):\n",
    "    \"\"\"\n",
    "    Smoothing is computed like in the following paper by Daniele Micci-Barreca\n",
    "    https://kaggle2.blob.core.windows.net/forum-message-attachments/225952/7441/high%20cardinality%20categoricals.pdf\n",
    "    trn_series : training categorical feature as a pd.Series\n",
    "    tst_series : test categorical feature as a pd.Series\n",
    "    target : target data as a pd.Series\n",
    "    min_samples_leaf (int) : minimum samples to take category average into account\n",
    "    smoothing (int) : smoothing effect to balance categorical average vs prior\n",
    "    \"\"\"\n",
    "    assert len(trn_series) == len(target)\n",
    "    assert trn_series.name == tst_series.name\n",
    "    temp = pd.concat([trn_series, target], axis=1)\n",
    "    # Compute target mean\n",
    "    averages = temp.groupby(by=trn_series.name)[target.name].agg([\"mean\", \"count\"])\n",
    "    # Compute smoothing\n",
    "    smoothing = 1 / (1 + np.exp(-(averages[\"count\"] - min_samples_leaf) / smoothing))\n",
    "    # Apply average function to all target data\n",
    "    prior = target.mean()\n",
    "    # The bigger the count the less full_avg is taken into account\n",
    "    averages[target.name] = prior * (1 - smoothing) + averages[\"mean\"] * smoothing\n",
    "    averages.drop([\"mean\", \"count\"], axis=1, inplace=True)\n",
    "    # Apply averages to trn and tst series\n",
    "    ft_trn_series = pd.merge(\n",
    "        trn_series.to_frame(trn_series.name),\n",
    "        averages.reset_index().rename(columns={'index': target.name, target.name: 'average'}),\n",
    "        on=trn_series.name,\n",
    "        how='left')['average'].rename(trn_series.name + '_mean').fillna(prior)\n",
    "    # pd.merge does not keep the index so restore it\n",
    "    ft_trn_series.index = trn_series.index\n",
    "    ft_val_series = pd.merge(\n",
    "        val_series.to_frame(val_series.name),\n",
    "        averages.reset_index().rename(columns={'index': target.name, target.name: 'average'}),\n",
    "        on=val_series.name,\n",
    "        how='left')['average'].rename(trn_series.name + '_mean').fillna(prior)\n",
    "    # pd.merge does not keep the index so restore it\n",
    "    ft_val_series.index = val_series.index\n",
    "    ft_tst_series = pd.merge(\n",
    "        tst_series.to_frame(tst_series.name),\n",
    "        averages.reset_index().rename(columns={'index': target.name, target.name: 'average'}),\n",
    "        on=tst_series.name,\n",
    "        how='left')['average'].rename(trn_series.name + '_mean').fillna(prior)\n",
    "    # pd.merge does not keep the index so restore it\n",
    "    ft_tst_series.index = tst_series.index\n",
    "    return add_noise(ft_trn_series, noise_level), add_noise(ft_val_series, noise_level), add_noise(ft_tst_series, noise_level)"
   ]
  },
  {
   "cell_type": "code",
   "execution_count": 5,
   "metadata": {
    "collapsed": true
   },
   "outputs": [],
   "source": [
    "# Read data\n",
    "train_df = pd.read_csv('train.csv', na_values=\"-1\") # .iloc[0:200,:]\n",
    "test_df = pd.read_csv('test.csv', na_values=\"-1\")"
   ]
  },
  {
   "cell_type": "code",
   "execution_count": 6,
   "metadata": {},
   "outputs": [],
   "source": [
    "# from olivier\n",
    "train_features = [\n",
    "    \"ps_car_13\",  #            : 1571.65 / shadow  609.23\n",
    "\t\"ps_reg_03\",  #            : 1408.42 / shadow  511.15\n",
    "\t\"ps_ind_05_cat\",  #        : 1387.87 / shadow   84.72\n",
    "\t\"ps_ind_03\",  #            : 1219.47 / shadow  230.55\n",
    "\t\"ps_ind_15\",  #            :  922.18 / shadow  242.00\n",
    "\t\"ps_reg_02\",  #            :  920.65 / shadow  267.50\n",
    "\t\"ps_car_14\",  #            :  798.48 / shadow  549.58\n",
    "\t\"ps_car_12\",  #            :  731.93 / shadow  293.62\n",
    "\t\"ps_car_01_cat\",  #        :  698.07 / shadow  178.72\n",
    "\t\"ps_car_07_cat\",  #        :  694.53 / shadow   36.35\n",
    "\t\"ps_ind_17_bin\",  #        :  620.77 / shadow   23.15\n",
    "\t\"ps_car_03_cat\",  #        :  611.73 / shadow   50.67\n",
    "\t\"ps_reg_01\",  #            :  598.60 / shadow  178.57\n",
    "\t\"ps_car_15\",  #            :  593.35 / shadow  226.43\n",
    "\t\"ps_ind_01\",  #            :  547.32 / shadow  154.58\n",
    "\t\"ps_ind_16_bin\",  #        :  475.37 / shadow   34.17\n",
    "\t\"ps_ind_07_bin\",  #        :  435.28 / shadow   28.92\n",
    "\t\"ps_car_06_cat\",  #        :  398.02 / shadow  212.43\n",
    "\t\"ps_car_04_cat\",  #        :  376.87 / shadow   76.98\n",
    "\t\"ps_ind_06_bin\",  #        :  370.97 / shadow   36.13\n",
    "\t\"ps_car_09_cat\",  #        :  214.12 / shadow   81.38\n",
    "\t\"ps_car_02_cat\",  #        :  203.03 / shadow   26.67\n",
    "\t\"ps_ind_02_cat\",  #        :  189.47 / shadow   65.68\n",
    "\t\"ps_car_11\",  #            :  173.28 / shadow   76.45\n",
    "\t\"ps_car_05_cat\",  #        :  172.75 / shadow   62.92\n",
    "\t\"ps_calc_09\",  #           :  169.13 / shadow  129.72\n",
    "\t\"ps_calc_05\",  #           :  148.83 / shadow  120.68\n",
    "\t\"ps_ind_08_bin\",  #        :  140.73 / shadow   27.63\n",
    "\t\"ps_car_08_cat\",  #        :  120.87 / shadow   28.82\n",
    "\t\"ps_ind_09_bin\",  #        :  113.92 / shadow   27.05\n",
    "\t\"ps_ind_04_cat\",  #        :  107.27 / shadow   37.43\n",
    "\t\"ps_ind_18_bin\",  #        :   77.42 / shadow   25.97\n",
    "\t\"ps_ind_12_bin\",  #        :   39.67 / shadow   15.52\n",
    "\t\"ps_ind_14\",  #            :   37.37 / shadow   16.65\n",
    "]\n",
    "\n",
    "# add combinations\n",
    "combs = [\n",
    "    ('ps_reg_01', 'ps_car_02_cat'),  \n",
    "    ('ps_reg_01', 'ps_car_04_cat'),\n",
    "]"
   ]
  },
  {
   "cell_type": "code",
   "execution_count": 7,
   "metadata": {},
   "outputs": [
    {
     "name": "stdout",
     "output_type": "stream",
     "text": [
      "current feature                                 ps_reg_01_plus_ps_car_04_cat    2 in   0.1"
     ]
    }
   ],
   "source": [
    "# Process data\n",
    "id_test = test_df['id'].values\n",
    "id_train = train_df['id'].values\n",
    "y = train_df['target']\n",
    "\n",
    "start = time.time()\n",
    "for n_c, (f1, f2) in enumerate(combs):\n",
    "    name1 = f1 + \"_plus_\" + f2\n",
    "    print('current feature %60s %4d in %5.1f'\n",
    "          % (name1, n_c + 1, (time.time() - start) / 60), end='')\n",
    "    print('\\r' * 75, end='')\n",
    "    train_df[name1] = train_df[f1].apply(lambda x: str(x)) + \"_\" + train_df[f2].apply(lambda x: str(x))\n",
    "    test_df[name1] = test_df[f1].apply(lambda x: str(x)) + \"_\" + test_df[f2].apply(lambda x: str(x))\n",
    "    # Label Encode\n",
    "    lbl = LabelEncoder()\n",
    "    lbl.fit(list(train_df[name1].values) + list(test_df[name1].values))\n",
    "    train_df[name1] = lbl.transform(list(train_df[name1].values))\n",
    "    test_df[name1] = lbl.transform(list(test_df[name1].values))\n",
    "\n",
    "    train_features.append(name1)\n",
    "    \n",
    "X = train_df[train_features]\n",
    "test_df = test_df[train_features]\n",
    "\n",
    "f_cats = [f for f in X.columns if \"_cat\" in f]"
   ]
  },
  {
   "cell_type": "code",
   "execution_count": 8,
   "metadata": {
    "collapsed": true
   },
   "outputs": [],
   "source": [
    "y_valid_pred = 0*y\n",
    "y_test_pred = 0"
   ]
  },
  {
   "cell_type": "code",
   "execution_count": 9,
   "metadata": {},
   "outputs": [
    {
     "name": "stderr",
     "output_type": "stream",
     "text": [
      "/home/haoyang/anaconda3/lib/python3.6/site-packages/sklearn/cross_validation.py:41: DeprecationWarning: This module was deprecated in version 0.18 in favor of the model_selection module into which all the refactored classes and functions are moved. Also note that the interface of the new CV iterators are different from that of this module. This module will be removed in 0.20.\n",
      "  \"This module will be removed in 0.20.\", DeprecationWarning)\n"
     ]
    },
    {
     "data": {
      "text/plain": [
       "XGBClassifier(base_score=0.5, booster='gbtree', colsample_bylevel=1,\n",
       "       colsample_bytree=1, gamma=0, learning_rate=0.01, max_delta_step=0,\n",
       "       max_depth=3, min_child_weight=1, missing=None, n_estimators=100,\n",
       "       n_jobs=1, nthread=None, objective='binary:logistic', random_state=0,\n",
       "       reg_alpha=0, reg_lambda=1, scale_pos_weight=1, seed=3, silent=True,\n",
       "       subsample=1)"
      ]
     },
     "execution_count": 9,
     "metadata": {},
     "output_type": "execute_result"
    }
   ],
   "source": [
    "# set the seed of random number generator, which is useful for creating simulations \n",
    "# or random objects that can be reproduced.\n",
    "from sklearn.cross_validation import train_test_split\n",
    "from sklearn.metrics import precision_score, accuracy_score, f1_score, roc_auc_score\n",
    "import random\n",
    "import xgboost as xgb\n",
    "\n",
    "SEED=3\n",
    "random.seed(SEED)\n",
    "np.random.seed(SEED)\n",
    "\n",
    "cv_folds = 3\n",
    "early_stopping_rounds = 200\n",
    "model=xgb.XGBClassifier(seed = SEED)\n",
    "xgb_param = model.get_xgb_params()\n",
    "model.set_params(learning_rate=0.01)"
   ]
  },
  {
   "cell_type": "code",
   "execution_count": 9,
   "metadata": {
    "scrolled": true
   },
   "outputs": [
    {
     "name": "stdout",
     "output_type": "stream",
     "text": [
      "     test-auc-mean  test-auc-std  train-auc-mean  train-auc-std\n",
      "0         0.583251      0.001703        0.585571       0.003303\n",
      "1         0.598575      0.005206        0.600856       0.001901\n",
      "2         0.601517      0.002868        0.604387       0.001977\n",
      "3         0.602701      0.004071        0.605352       0.001240\n",
      "4         0.604170      0.002749        0.607322       0.001575\n",
      "5         0.605909      0.003594        0.608810       0.000637\n",
      "6         0.605935      0.003851        0.608465       0.000756\n",
      "7         0.606223      0.003595        0.609088       0.000836\n",
      "8         0.606379      0.003853        0.609122       0.000639\n",
      "9         0.607044      0.003354        0.609871       0.000927\n",
      "10        0.607384      0.003022        0.610391       0.001059\n",
      "11        0.607921      0.003217        0.610493       0.000852\n",
      "12        0.608179      0.003356        0.610860       0.001033\n",
      "13        0.608204      0.003123        0.611185       0.001096\n",
      "14        0.608621      0.003312        0.611573       0.000835\n",
      "15        0.609040      0.003482        0.612145       0.000853\n",
      "16        0.609313      0.003203        0.612205       0.001064\n",
      "17        0.609302      0.003310        0.612515       0.000678\n",
      "18        0.610032      0.003131        0.613372       0.001070\n",
      "19        0.611196      0.003252        0.614854       0.001170\n",
      "20        0.611752      0.003181        0.615538       0.001218\n",
      "21        0.612415      0.002437        0.616566       0.001257\n",
      "22        0.613361      0.002532        0.617418       0.001058\n",
      "23        0.613767      0.002939        0.618097       0.000895\n",
      "24        0.615185      0.002890        0.619312       0.000805\n",
      "25        0.615705      0.003172        0.619799       0.000797\n",
      "26        0.616361      0.003224        0.620636       0.000616\n",
      "27        0.617038      0.003545        0.621501       0.000440\n",
      "28        0.617552      0.003313        0.622354       0.000492\n",
      "29        0.618268      0.003502        0.623109       0.000608\n",
      "..             ...           ...             ...            ...\n",
      "325       0.640406      0.002732        0.666891       0.000790\n",
      "326       0.640356      0.002724        0.666967       0.000793\n",
      "327       0.640347      0.002737        0.667049       0.000817\n",
      "328       0.640394      0.002698        0.667097       0.000825\n",
      "329       0.640366      0.002686        0.667147       0.000798\n",
      "330       0.640353      0.002689        0.667164       0.000794\n",
      "331       0.640357      0.002677        0.667233       0.000797\n",
      "332       0.640352      0.002673        0.667318       0.000801\n",
      "333       0.640340      0.002653        0.667372       0.000804\n",
      "334       0.640343      0.002665        0.667405       0.000816\n",
      "335       0.640361      0.002655        0.667494       0.000825\n",
      "336       0.640362      0.002652        0.667538       0.000826\n",
      "337       0.640359      0.002665        0.667580       0.000838\n",
      "338       0.640389      0.002660        0.667628       0.000851\n",
      "339       0.640396      0.002665        0.667667       0.000857\n",
      "340       0.640416      0.002692        0.667751       0.000851\n",
      "341       0.640434      0.002724        0.667821       0.000847\n",
      "342       0.640466      0.002717        0.667881       0.000850\n",
      "343       0.640448      0.002718        0.667927       0.000842\n",
      "344       0.640459      0.002729        0.667981       0.000839\n",
      "345       0.640460      0.002728        0.668029       0.000828\n",
      "346       0.640474      0.002746        0.668107       0.000804\n",
      "347       0.640450      0.002736        0.668172       0.000817\n",
      "348       0.640483      0.002743        0.668235       0.000796\n",
      "349       0.640501      0.002711        0.668307       0.000800\n",
      "350       0.640495      0.002714        0.668351       0.000827\n",
      "351       0.640466      0.002713        0.668399       0.000829\n",
      "352       0.640456      0.002716        0.668441       0.000833\n",
      "353       0.640496      0.002710        0.668503       0.000824\n",
      "354       0.640502      0.002725        0.668559       0.000817\n",
      "\n",
      "[355 rows x 4 columns]\n",
      "Optimal number of trees (estimators) is 355\n"
     ]
    }
   ],
   "source": [
    "# set the seed of random number generator, which is useful for creating simulations \n",
    "# or random objects that can be reproduced.\n",
    "from sklearn.cross_validation import train_test_split\n",
    "from sklearn.metrics import precision_score, accuracy_score, f1_score, roc_auc_score\n",
    "import random\n",
    "import xgboost as xgb\n",
    "\n",
    "SEED=3\n",
    "random.seed(SEED)\n",
    "np.random.seed(SEED)\n",
    "\n",
    "cv_folds = 5\n",
    "early_stopping_rounds = 200\n",
    "model=xgb.XGBClassifier(seed = SEED)\n",
    "xgb_param = model.get_xgb_params()\n",
    "model.set_params(learning_rate=0.01)\n",
    "\n",
    "# xgtrain = xgb.DMatrix(X, y)\n",
    "# cvresult = xgb.cv(xgb_param, xgtrain, num_boost_round = 2000, nfold = cv_folds, metrics = 'auc', early_stopping_rounds = early_stopping_rounds, seed = SEED)\n",
    "# print (cvresult)\n",
    "# print (\"Optimal number of trees (estimators) is %i\" % cvresult.shape[0])"
   ]
  },
  {
   "cell_type": "code",
   "execution_count": 11,
   "metadata": {
    "scrolled": true
   },
   "outputs": [
    {
     "name": "stdout",
     "output_type": "stream",
     "text": [
      "Fitting 3 folds for each of 16 candidates, totalling 48 fits\n",
      "[CV] max_depth=4, min_child_weight=1 .................................\n",
      "[CV] max_depth=4, min_child_weight=1 .................................\n",
      "[CV] max_depth=4, min_child_weight=1 .................................\n",
      "[CV] max_depth=4, min_child_weight=2 .................................\n",
      "[CV] max_depth=4, min_child_weight=2 .................................\n",
      "[CV] max_depth=4, min_child_weight=2 .................................\n",
      "[CV] max_depth=4, min_child_weight=3 .................................\n",
      "[CV] max_depth=4, min_child_weight=3 .................................\n",
      "[CV] max_depth=4, min_child_weight=3 .................................\n",
      "[CV] max_depth=4, min_child_weight=4 .................................\n",
      "[CV] max_depth=4, min_child_weight=4 .................................\n",
      "[CV] max_depth=4, min_child_weight=4 .................................\n",
      "[CV] max_depth=5, min_child_weight=1 .................................\n",
      "[CV] max_depth=5, min_child_weight=1 .................................\n",
      "[CV] max_depth=5, min_child_weight=1 .................................\n",
      "[CV] max_depth=5, min_child_weight=2 .................................\n",
      "[CV] max_depth=5, min_child_weight=2 .................................\n",
      "[CV] max_depth=5, min_child_weight=2 .................................\n",
      "[CV] max_depth=5, min_child_weight=3 .................................\n",
      "[CV] max_depth=5, min_child_weight=3 .................................\n",
      "[CV] max_depth=5, min_child_weight=3 .................................\n",
      "[CV] max_depth=5, min_child_weight=4 .................................\n",
      "[CV] max_depth=5, min_child_weight=4 .................................\n",
      "[CV] max_depth=5, min_child_weight=4 .................................\n",
      "[CV] max_depth=6, min_child_weight=1 .................................\n",
      "[CV] max_depth=6, min_child_weight=1 .................................\n",
      "[CV] max_depth=6, min_child_weight=1 .................................\n",
      "[CV] max_depth=6, min_child_weight=2 .................................\n",
      "[CV] max_depth=6, min_child_weight=2 .................................\n",
      "[CV] max_depth=6, min_child_weight=2 .................................\n",
      "[CV] max_depth=6, min_child_weight=3 .................................\n",
      "[CV] max_depth=6, min_child_weight=3 .................................\n",
      "[CV] ........ max_depth=4, min_child_weight=1, score=0.626805 -12.5min\n",
      "[CV] max_depth=6, min_child_weight=3 .................................\n",
      "[CV] ........ max_depth=4, min_child_weight=2, score=0.626967 -12.7min\n",
      "[CV] max_depth=6, min_child_weight=4 .................................\n",
      "[CV] ........ max_depth=4, min_child_weight=1, score=0.627494 -12.8min\n",
      "[CV] max_depth=6, min_child_weight=4 .................................\n",
      "[CV] ........ max_depth=4, min_child_weight=3, score=0.626884 -12.8min\n",
      "[CV] max_depth=6, min_child_weight=4 .................................\n",
      "[CV] ........ max_depth=4, min_child_weight=1, score=0.625497 -12.9min\n",
      "[CV] max_depth=7, min_child_weight=1 .................................\n"
     ]
    },
    {
     "name": "stderr",
     "output_type": "stream",
     "text": [
      "[Parallel(n_jobs=32)]: Done   5 out of  48 | elapsed: 12.9min remaining: 111.2min\n"
     ]
    },
    {
     "name": "stdout",
     "output_type": "stream",
     "text": [
      "[CV] ........ max_depth=4, min_child_weight=4, score=0.627277 -12.9min\n",
      "[CV] max_depth=7, min_child_weight=1 .................................\n",
      "[CV] ........ max_depth=4, min_child_weight=4, score=0.626878 -12.9min\n",
      "[CV] max_depth=7, min_child_weight=1 .................................\n",
      "[CV] ........ max_depth=4, min_child_weight=3, score=0.627324 -12.9min\n",
      "[CV] max_depth=7, min_child_weight=2 .................................\n",
      "[CV] ........ max_depth=4, min_child_weight=4, score=0.625495 -13.1min\n",
      "[CV] max_depth=7, min_child_weight=2 .................................\n",
      "[CV] ........ max_depth=4, min_child_weight=2, score=0.625445 -13.3min\n",
      "[CV] max_depth=7, min_child_weight=2 .................................\n"
     ]
    },
    {
     "name": "stderr",
     "output_type": "stream",
     "text": [
      "[Parallel(n_jobs=32)]: Done  10 out of  48 | elapsed: 13.4min remaining: 50.8min\n"
     ]
    },
    {
     "name": "stdout",
     "output_type": "stream",
     "text": [
      "[CV] ........ max_depth=4, min_child_weight=2, score=0.627354 -13.4min\n",
      "[CV] max_depth=7, min_child_weight=3 .................................\n",
      "[CV] ........ max_depth=4, min_child_weight=3, score=0.625536 -13.8min\n",
      "[CV] max_depth=7, min_child_weight=3 .................................\n",
      "[CV] ........ max_depth=5, min_child_weight=4, score=0.630105 -16.1min\n",
      "[CV] max_depth=7, min_child_weight=3 .................................\n",
      "[CV] ........ max_depth=5, min_child_weight=3, score=0.630084 -16.1min\n",
      "[CV] max_depth=7, min_child_weight=4 .................................\n",
      "[CV] ........ max_depth=5, min_child_weight=2, score=0.630071 -16.2min\n",
      "[CV] max_depth=7, min_child_weight=4 .................................\n"
     ]
    },
    {
     "name": "stderr",
     "output_type": "stream",
     "text": [
      "[Parallel(n_jobs=32)]: Done  15 out of  48 | elapsed: 16.3min remaining: 36.0min\n"
     ]
    },
    {
     "name": "stdout",
     "output_type": "stream",
     "text": [
      "[CV] ........ max_depth=5, min_child_weight=2, score=0.630129 -16.3min\n",
      "[CV] max_depth=7, min_child_weight=4 .................................\n",
      "[CV] ........ max_depth=5, min_child_weight=3, score=0.630062 -16.4min\n",
      "[CV] ........ max_depth=5, min_child_weight=4, score=0.628515 -16.4min\n",
      "[CV] ........ max_depth=5, min_child_weight=1, score=0.630002 -16.5min\n",
      "[CV] ........ max_depth=5, min_child_weight=4, score=0.630049 -16.5min\n"
     ]
    },
    {
     "name": "stderr",
     "output_type": "stream",
     "text": [
      "[Parallel(n_jobs=32)]: Done  20 out of  48 | elapsed: 16.6min remaining: 23.2min\n"
     ]
    },
    {
     "name": "stdout",
     "output_type": "stream",
     "text": [
      "[CV] ........ max_depth=5, min_child_weight=1, score=0.630178 -16.5min\n",
      "[CV] ........ max_depth=5, min_child_weight=1, score=0.628372 -16.6min\n",
      "[CV] ........ max_depth=5, min_child_weight=2, score=0.628437 -16.9min\n",
      "[CV] ........ max_depth=5, min_child_weight=3, score=0.628533 -16.9min\n",
      "[CV] ........ max_depth=6, min_child_weight=2, score=0.631934 -19.1min\n"
     ]
    },
    {
     "name": "stderr",
     "output_type": "stream",
     "text": [
      "[Parallel(n_jobs=32)]: Done  25 out of  48 | elapsed: 19.3min remaining: 17.8min\n"
     ]
    },
    {
     "name": "stdout",
     "output_type": "stream",
     "text": [
      "[CV] ........ max_depth=6, min_child_weight=1, score=0.632263 -19.2min\n",
      "[CV] ........ max_depth=6, min_child_weight=3, score=0.631743 -19.2min\n",
      "[CV] ........ max_depth=6, min_child_weight=1, score=0.630252 -19.4min\n",
      "[CV] ........ max_depth=6, min_child_weight=2, score=0.631576 -19.5min\n",
      "[CV] ........ max_depth=6, min_child_weight=1, score=0.631434 -19.6min\n"
     ]
    },
    {
     "name": "stderr",
     "output_type": "stream",
     "text": [
      "[Parallel(n_jobs=32)]: Done  30 out of  48 | elapsed: 19.7min remaining: 11.8min\n"
     ]
    },
    {
     "name": "stdout",
     "output_type": "stream",
     "text": [
      "[CV] ........ max_depth=6, min_child_weight=3, score=0.631457 -19.5min\n",
      "[CV] ........ max_depth=6, min_child_weight=2, score=0.630273 -19.5min\n",
      "[CV] ........ max_depth=6, min_child_weight=4, score=0.630547 -12.4min\n",
      "[CV] ........ max_depth=6, min_child_weight=4, score=0.631480 -12.5min\n",
      "[CV] ........ max_depth=6, min_child_weight=3, score=0.630307 -13.7min\n"
     ]
    },
    {
     "name": "stderr",
     "output_type": "stream",
     "text": [
      "[Parallel(n_jobs=32)]: Done  35 out of  48 | elapsed: 26.2min remaining:  9.7min\n"
     ]
    },
    {
     "name": "stdout",
     "output_type": "stream",
     "text": [
      "[CV] ........ max_depth=6, min_child_weight=4, score=0.631939 -13.5min\n",
      "[CV] ........ max_depth=7, min_child_weight=2, score=0.632862 -13.5min\n",
      "[CV] ........ max_depth=7, min_child_weight=1, score=0.630654 -13.8min\n",
      "[CV] ........ max_depth=7, min_child_weight=3, score=0.632687 -13.0min\n",
      "[CV] ........ max_depth=7, min_child_weight=2, score=0.630350 -13.6min\n"
     ]
    },
    {
     "name": "stderr",
     "output_type": "stream",
     "text": [
      "[Parallel(n_jobs=32)]: Done  40 out of  48 | elapsed: 26.9min remaining:  5.4min\n"
     ]
    },
    {
     "name": "stdout",
     "output_type": "stream",
     "text": [
      "[CV] ........ max_depth=7, min_child_weight=3, score=0.630812 -13.6min\n",
      "[CV] ........ max_depth=7, min_child_weight=1, score=0.632928 -14.9min\n",
      "[CV] ........ max_depth=7, min_child_weight=2, score=0.631130 -15.3min\n",
      "[CV] ........ max_depth=7, min_child_weight=1, score=0.631247 -15.3min\n",
      "[CV] ........ max_depth=7, min_child_weight=4, score=0.633112 -12.8min\n"
     ]
    },
    {
     "name": "stderr",
     "output_type": "stream",
     "text": [
      "[Parallel(n_jobs=32)]: Done  45 out of  48 | elapsed: 29.1min remaining:  1.9min\n"
     ]
    },
    {
     "name": "stdout",
     "output_type": "stream",
     "text": [
      "[CV] ........ max_depth=7, min_child_weight=3, score=0.631009 -13.1min\n",
      "[CV] ........ max_depth=7, min_child_weight=4, score=0.630965 -12.9min\n",
      "[CV] ........ max_depth=7, min_child_weight=4, score=0.630689 -13.1min\n"
     ]
    },
    {
     "name": "stderr",
     "output_type": "stream",
     "text": [
      "[Parallel(n_jobs=32)]: Done  48 out of  48 | elapsed: 29.3min finished\n"
     ]
    },
    {
     "name": "stdout",
     "output_type": "stream",
     "text": [
      "{'max_depth': 7, 'min_child_weight': 1}\n",
      "0.6316094344978929\n",
      "CPU times: user 12min 38s, sys: 2.7 s, total: 12min 41s\n",
      "Wall time: 41min 36s\n"
     ]
    }
   ],
   "source": [
    "%%time\n",
    "from sklearn.grid_search import GridSearchCV\n",
    "model.set_params(n_estimators = 355)\n",
    "param_test1 = {\n",
    "'max_depth': [4,5,6,7],\n",
    "'min_child_weight': [1,2,3,4]\n",
    "}\n",
    "gsearch1 = GridSearchCV(estimator = model, param_grid = param_test1, scoring = 'roc_auc', n_jobs = 32, iid = False, cv = cv_folds, verbose = 10)\n",
    "gsearch1.fit(X,y)\n",
    "#print gsearch1.grid_scores_\n",
    "print (gsearch1.best_params_)\n",
    "print (gsearch1.best_score_)"
   ]
  },
  {
   "cell_type": "code",
   "execution_count": 19,
   "metadata": {
    "scrolled": true
   },
   "outputs": [
    {
     "name": "stdout",
     "output_type": "stream",
     "text": [
      "Fitting 3 folds for each of 9 candidates, totalling 27 fits\n"
     ]
    },
    {
     "name": "stderr",
     "output_type": "stream",
     "text": [
      "[Parallel(n_jobs=32)]: Done  20 out of  27 | elapsed: 20.2min remaining:  7.1min\n",
      "[Parallel(n_jobs=32)]: Done  27 out of  27 | elapsed: 20.3min finished\n"
     ]
    },
    {
     "name": "stdout",
     "output_type": "stream",
     "text": [
      "{'gamma': 0.6}\n",
      "0.6317915186237932\n",
      "CPU times: user 12min 32s, sys: 2.13 s, total: 12min 34s\n",
      "Wall time: 32min 40s\n"
     ]
    }
   ],
   "source": [
    "%%time\n",
    "# using features, labels, cv_folds, model from previous example\n",
    "model.set_params(n_estimators = 355)\n",
    "model.set_params(max_depth = 7)\n",
    "model.set_params(min_child_weight = 1)\n",
    "param_test2 = {\n",
    "'gamma':[i/10.0 for i in range(0,9)]\n",
    "}\n",
    "gsearch2 = GridSearchCV(estimator = model, param_grid = param_test2, scoring = 'roc_auc', n_jobs = 32, iid = False, cv = cv_folds, verbose = 1)\n",
    "gsearch2.fit(X,y)\n",
    "print (gsearch2.best_params_)\n",
    "print (gsearch2.best_score_)"
   ]
  },
  {
   "cell_type": "code",
   "execution_count": 20,
   "metadata": {
    "scrolled": true
   },
   "outputs": [
    {
     "name": "stdout",
     "output_type": "stream",
     "text": [
      "Fitting 3 folds for each of 25 candidates, totalling 75 fits\n",
      "[CV] colsample_bytree=0.6, subsample=0.6 .............................\n",
      "[CV] colsample_bytree=0.6, subsample=0.6 .............................\n",
      "[CV] colsample_bytree=0.6, subsample=0.6 .............................\n",
      "[CV] colsample_bytree=0.6, subsample=0.7 .............................\n",
      "[CV] colsample_bytree=0.6, subsample=0.7 .............................\n",
      "[CV] colsample_bytree=0.6, subsample=0.7 .............................\n",
      "[CV] colsample_bytree=0.6, subsample=0.8 .............................\n",
      "[CV] colsample_bytree=0.6, subsample=0.8 .............................\n",
      "[CV] colsample_bytree=0.6, subsample=0.8 .............................\n",
      "[CV] colsample_bytree=0.6, subsample=0.9 .............................\n",
      "[CV] colsample_bytree=0.6, subsample=0.9 .............................\n",
      "[CV] colsample_bytree=0.6, subsample=0.9 .............................\n",
      "[CV] colsample_bytree=0.6, subsample=1.0 .............................\n",
      "[CV] colsample_bytree=0.6, subsample=1.0 .............................\n",
      "[CV] colsample_bytree=0.6, subsample=1.0 .............................\n",
      "[CV] colsample_bytree=0.7, subsample=0.6 .............................\n",
      "[CV] colsample_bytree=0.7, subsample=0.6 .............................\n",
      "[CV] colsample_bytree=0.7, subsample=0.6 .............................\n",
      "[CV] colsample_bytree=0.7, subsample=0.7 .............................\n",
      "[CV] colsample_bytree=0.7, subsample=0.7 .............................\n",
      "[CV] colsample_bytree=0.7, subsample=0.7 .............................\n",
      "[CV] colsample_bytree=0.7, subsample=0.8 .............................\n",
      "[CV] colsample_bytree=0.7, subsample=0.8 .............................\n",
      "[CV] colsample_bytree=0.7, subsample=0.8 .............................\n",
      "[CV] colsample_bytree=0.7, subsample=0.9 .............................\n",
      "[CV] colsample_bytree=0.7, subsample=0.9 .............................\n",
      "[CV] colsample_bytree=0.7, subsample=0.9 .............................\n",
      "[CV] colsample_bytree=0.7, subsample=1.0 .............................\n",
      "[CV] colsample_bytree=0.7, subsample=1.0 .............................\n",
      "[CV] colsample_bytree=0.7, subsample=1.0 .............................\n",
      "[CV] colsample_bytree=0.8, subsample=0.6 .............................\n",
      "[CV] colsample_bytree=0.8, subsample=0.6 .............................\n",
      "[CV] .... colsample_bytree=0.6, subsample=0.9, score=0.635866 -14.0min\n",
      "[CV] colsample_bytree=0.8, subsample=0.6 .............................\n"
     ]
    },
    {
     "name": "stderr",
     "output_type": "stream",
     "text": [
      "[Parallel(n_jobs=32)]: Done   1 tasks      | elapsed: 14.1min\n"
     ]
    },
    {
     "name": "stdout",
     "output_type": "stream",
     "text": [
      "[CV] .... colsample_bytree=0.6, subsample=0.7, score=0.636130 -14.1min\n",
      "[CV] colsample_bytree=0.8, subsample=0.7 .............................\n"
     ]
    },
    {
     "name": "stderr",
     "output_type": "stream",
     "text": [
      "[Parallel(n_jobs=32)]: Done   2 tasks      | elapsed: 14.1min\n"
     ]
    },
    {
     "name": "stdout",
     "output_type": "stream",
     "text": [
      "[CV] .... colsample_bytree=0.6, subsample=0.6, score=0.636382 -14.2min\n",
      "[CV] colsample_bytree=0.8, subsample=0.7 .............................\n"
     ]
    },
    {
     "name": "stderr",
     "output_type": "stream",
     "text": [
      "[Parallel(n_jobs=32)]: Done   3 tasks      | elapsed: 14.2min\n"
     ]
    },
    {
     "name": "stdout",
     "output_type": "stream",
     "text": [
      "[CV] .... colsample_bytree=0.6, subsample=0.9, score=0.635012 -14.2min\n",
      "[CV] colsample_bytree=0.8, subsample=0.7 .............................\n"
     ]
    },
    {
     "name": "stderr",
     "output_type": "stream",
     "text": [
      "[Parallel(n_jobs=32)]: Done   4 tasks      | elapsed: 14.2min\n"
     ]
    },
    {
     "name": "stdout",
     "output_type": "stream",
     "text": [
      "[CV] .... colsample_bytree=0.6, subsample=0.8, score=0.635466 -14.3min\n",
      "[CV] colsample_bytree=0.8, subsample=0.8 .............................\n"
     ]
    },
    {
     "name": "stderr",
     "output_type": "stream",
     "text": [
      "[Parallel(n_jobs=32)]: Done   5 tasks      | elapsed: 14.3min\n"
     ]
    },
    {
     "name": "stdout",
     "output_type": "stream",
     "text": [
      "[CV] .... colsample_bytree=0.6, subsample=0.7, score=0.635603 -14.4min\n",
      "[CV] colsample_bytree=0.8, subsample=0.8 .............................\n"
     ]
    },
    {
     "name": "stderr",
     "output_type": "stream",
     "text": [
      "[Parallel(n_jobs=32)]: Done   6 tasks      | elapsed: 14.4min\n"
     ]
    },
    {
     "name": "stdout",
     "output_type": "stream",
     "text": [
      "[CV] .... colsample_bytree=0.6, subsample=0.8, score=0.633358 -14.4min\n",
      "[CV] colsample_bytree=0.8, subsample=0.8 .............................\n"
     ]
    },
    {
     "name": "stderr",
     "output_type": "stream",
     "text": [
      "[Parallel(n_jobs=32)]: Done   7 tasks      | elapsed: 14.4min\n"
     ]
    },
    {
     "name": "stdout",
     "output_type": "stream",
     "text": [
      "[CV] .... colsample_bytree=0.6, subsample=0.6, score=0.635880 -14.5min\n",
      "[CV] colsample_bytree=0.8, subsample=0.9 .............................\n"
     ]
    },
    {
     "name": "stderr",
     "output_type": "stream",
     "text": [
      "[Parallel(n_jobs=32)]: Done   8 tasks      | elapsed: 14.5min\n"
     ]
    },
    {
     "name": "stdout",
     "output_type": "stream",
     "text": [
      "[CV] .... colsample_bytree=0.6, subsample=0.7, score=0.633447 -14.6min\n",
      "[CV] colsample_bytree=0.8, subsample=0.9 .............................\n"
     ]
    },
    {
     "name": "stderr",
     "output_type": "stream",
     "text": [
      "[Parallel(n_jobs=32)]: Done   9 tasks      | elapsed: 14.6min\n"
     ]
    },
    {
     "name": "stdout",
     "output_type": "stream",
     "text": [
      "[CV] .... colsample_bytree=0.6, subsample=0.6, score=0.633555 -14.7min\n",
      "[CV] colsample_bytree=0.8, subsample=0.9 .............................\n"
     ]
    },
    {
     "name": "stderr",
     "output_type": "stream",
     "text": [
      "[Parallel(n_jobs=32)]: Done  10 tasks      | elapsed: 14.7min\n"
     ]
    },
    {
     "name": "stdout",
     "output_type": "stream",
     "text": [
      "[CV] .... colsample_bytree=0.6, subsample=1.0, score=0.635476 -14.7min\n",
      "[CV] colsample_bytree=0.8, subsample=1.0 .............................\n"
     ]
    },
    {
     "name": "stderr",
     "output_type": "stream",
     "text": [
      "[Parallel(n_jobs=32)]: Done  11 tasks      | elapsed: 14.8min\n"
     ]
    },
    {
     "name": "stdout",
     "output_type": "stream",
     "text": [
      "[CV] .... colsample_bytree=0.6, subsample=0.8, score=0.636553 -14.7min\n",
      "[CV] colsample_bytree=0.8, subsample=1.0 .............................\n"
     ]
    },
    {
     "name": "stderr",
     "output_type": "stream",
     "text": [
      "[Parallel(n_jobs=32)]: Done  12 tasks      | elapsed: 14.8min\n"
     ]
    },
    {
     "name": "stdout",
     "output_type": "stream",
     "text": [
      "[CV] .... colsample_bytree=0.6, subsample=1.0, score=0.634544 -15.0min\n",
      "[CV] colsample_bytree=0.8, subsample=1.0 .............................\n",
      "[CV] .... colsample_bytree=0.6, subsample=1.0, score=0.633440 -15.1min\n",
      "[CV] colsample_bytree=0.9, subsample=0.6 .............................\n",
      "[CV] .... colsample_bytree=0.6, subsample=0.9, score=0.633232 -15.3min\n",
      "[CV] colsample_bytree=0.9, subsample=0.6 .............................\n",
      "[CV] .... colsample_bytree=0.7, subsample=0.9, score=0.635122 -16.3min\n",
      "[CV] colsample_bytree=0.9, subsample=0.6 .............................\n"
     ]
    },
    {
     "name": "stderr",
     "output_type": "stream",
     "text": [
      "[Parallel(n_jobs=32)]: Done  16 out of  75 | elapsed: 16.4min remaining: 60.5min\n"
     ]
    },
    {
     "name": "stdout",
     "output_type": "stream",
     "text": [
      "[CV] .... colsample_bytree=0.7, subsample=0.7, score=0.635557 -16.5min\n",
      "[CV] colsample_bytree=0.9, subsample=0.7 .............................\n",
      "[CV] .... colsample_bytree=0.7, subsample=0.6, score=0.635592 -16.8min\n",
      "[CV] colsample_bytree=0.9, subsample=0.7 .............................\n",
      "[CV] .... colsample_bytree=0.7, subsample=0.8, score=0.632746 -16.9min\n",
      "[CV] colsample_bytree=0.9, subsample=0.7 .............................\n",
      "[CV] .... colsample_bytree=0.7, subsample=0.7, score=0.635437 -16.9min\n",
      "[CV] colsample_bytree=0.9, subsample=0.8 .............................\n"
     ]
    },
    {
     "name": "stderr",
     "output_type": "stream",
     "text": [
      "[Parallel(n_jobs=32)]: Done  20 out of  75 | elapsed: 17.0min remaining: 46.9min\n"
     ]
    },
    {
     "name": "stdout",
     "output_type": "stream",
     "text": [
      "[CV] .... colsample_bytree=0.7, subsample=1.0, score=0.634387 -16.9min\n",
      "[CV] colsample_bytree=0.9, subsample=0.8 .............................\n",
      "[CV] .... colsample_bytree=0.7, subsample=1.0, score=0.634003 -17.2min\n",
      "[CV] colsample_bytree=0.9, subsample=0.8 .............................\n",
      "[CV] .... colsample_bytree=0.7, subsample=1.0, score=0.632716 -17.3min\n",
      "[CV] colsample_bytree=0.9, subsample=0.9 .............................\n",
      "[CV] .... colsample_bytree=0.7, subsample=0.8, score=0.635412 -17.4min\n",
      "[CV] colsample_bytree=0.9, subsample=0.9 .............................\n"
     ]
    },
    {
     "name": "stderr",
     "output_type": "stream",
     "text": [
      "[Parallel(n_jobs=32)]: Done  24 out of  75 | elapsed: 17.5min remaining: 37.3min\n"
     ]
    },
    {
     "name": "stdout",
     "output_type": "stream",
     "text": [
      "[CV] .... colsample_bytree=0.7, subsample=0.9, score=0.634269 -17.5min\n",
      "[CV] colsample_bytree=0.9, subsample=0.9 .............................\n",
      "[CV] .... colsample_bytree=0.7, subsample=0.8, score=0.634909 -17.7min\n",
      "[CV] colsample_bytree=0.9, subsample=1.0 .............................\n",
      "[CV] .... colsample_bytree=0.7, subsample=0.9, score=0.633120 -17.8min\n",
      "[CV] colsample_bytree=0.9, subsample=1.0 .............................\n",
      "[CV] .... colsample_bytree=0.7, subsample=0.6, score=0.635160 -18.0min\n",
      "[CV] colsample_bytree=0.9, subsample=1.0 .............................\n"
     ]
    },
    {
     "name": "stderr",
     "output_type": "stream",
     "text": [
      "[Parallel(n_jobs=32)]: Done  28 out of  75 | elapsed: 18.1min remaining: 30.4min\n"
     ]
    },
    {
     "name": "stdout",
     "output_type": "stream",
     "text": [
      "[CV] .... colsample_bytree=0.7, subsample=0.7, score=0.633023 -18.0min\n",
      "[CV] colsample_bytree=1.0, subsample=0.6 .............................\n",
      "[CV] .... colsample_bytree=0.7, subsample=0.6, score=0.633108 -19.0min\n",
      "[CV] colsample_bytree=1.0, subsample=0.6 .............................\n",
      "[CV] .... colsample_bytree=0.8, subsample=0.6, score=0.635413 -19.5min\n",
      "[CV] colsample_bytree=1.0, subsample=0.6 .............................\n",
      "[CV] .... colsample_bytree=0.8, subsample=0.6, score=0.635732 -19.8min\n",
      "[CV] colsample_bytree=1.0, subsample=0.7 .............................\n"
     ]
    },
    {
     "name": "stderr",
     "output_type": "stream",
     "text": [
      "[Parallel(n_jobs=32)]: Done  32 out of  75 | elapsed: 20.0min remaining: 26.9min\n"
     ]
    },
    {
     "name": "stdout",
     "output_type": "stream",
     "text": [
      "[CV] .... colsample_bytree=0.8, subsample=1.0, score=0.633994 -17.9min\n",
      "[CV] colsample_bytree=1.0, subsample=0.7 .............................\n",
      "[CV] .... colsample_bytree=0.8, subsample=0.7, score=0.635404 -18.7min\n",
      "[CV] colsample_bytree=1.0, subsample=0.7 .............................\n",
      "[CV] .... colsample_bytree=0.8, subsample=0.8, score=0.632896 -18.5min\n",
      "[CV] colsample_bytree=1.0, subsample=0.8 .............................\n",
      "[CV] .... colsample_bytree=0.8, subsample=0.9, score=0.634766 -18.4min\n",
      "[CV] colsample_bytree=1.0, subsample=0.8 .............................\n"
     ]
    },
    {
     "name": "stderr",
     "output_type": "stream",
     "text": [
      "[Parallel(n_jobs=32)]: Done  36 out of  75 | elapsed: 33.0min remaining: 35.7min\n"
     ]
    },
    {
     "name": "stdout",
     "output_type": "stream",
     "text": [
      "[CV] .... colsample_bytree=0.8, subsample=1.0, score=0.633313 -18.2min\n",
      "[CV] colsample_bytree=1.0, subsample=0.8 .............................\n",
      "[CV] .... colsample_bytree=0.8, subsample=0.8, score=0.635111 -18.8min\n",
      "[CV] colsample_bytree=1.0, subsample=0.9 .............................\n",
      "[CV] .... colsample_bytree=0.8, subsample=0.6, score=0.632900 -19.1min\n",
      "[CV] colsample_bytree=1.0, subsample=0.9 .............................\n",
      "[CV] .... colsample_bytree=0.8, subsample=0.9, score=0.633225 -18.6min\n",
      "[CV] colsample_bytree=1.0, subsample=0.9 .............................\n"
     ]
    },
    {
     "name": "stderr",
     "output_type": "stream",
     "text": [
      "[Parallel(n_jobs=32)]: Done  40 out of  75 | elapsed: 33.3min remaining: 29.1min\n"
     ]
    },
    {
     "name": "stdout",
     "output_type": "stream",
     "text": [
      "[CV] .... colsample_bytree=0.8, subsample=0.8, score=0.635174 -18.9min\n",
      "[CV] colsample_bytree=1.0, subsample=1.0 .............................\n",
      "[CV] .... colsample_bytree=0.8, subsample=0.9, score=0.633947 -18.9min\n",
      "[CV] colsample_bytree=1.0, subsample=1.0 .............................\n",
      "[CV] .... colsample_bytree=0.8, subsample=0.7, score=0.635436 -19.5min\n",
      "[CV] colsample_bytree=1.0, subsample=1.0 .............................\n",
      "[CV] .... colsample_bytree=0.8, subsample=0.7, score=0.633191 -19.4min\n"
     ]
    },
    {
     "name": "stderr",
     "output_type": "stream",
     "text": [
      "[Parallel(n_jobs=32)]: Done  44 out of  75 | elapsed: 33.6min remaining: 23.7min\n"
     ]
    },
    {
     "name": "stdout",
     "output_type": "stream",
     "text": [
      "[CV] .... colsample_bytree=0.8, subsample=1.0, score=0.632141 -18.5min\n",
      "[CV] .... colsample_bytree=0.9, subsample=0.6, score=0.634861 -21.1min\n",
      "[CV] .... colsample_bytree=0.9, subsample=0.6, score=0.635439 -21.6min\n",
      "[CV] .... colsample_bytree=0.9, subsample=0.8, score=0.634416 -20.5min\n"
     ]
    },
    {
     "name": "stderr",
     "output_type": "stream",
     "text": [
      "[Parallel(n_jobs=32)]: Done  48 out of  75 | elapsed: 37.6min remaining: 21.1min\n"
     ]
    },
    {
     "name": "stdout",
     "output_type": "stream",
     "text": [
      "[CV] .... colsample_bytree=0.9, subsample=0.8, score=0.634549 -20.8min\n",
      "[CV] .... colsample_bytree=0.9, subsample=1.0, score=0.633669 -19.9min\n",
      "[CV] .... colsample_bytree=0.9, subsample=0.9, score=0.634232 -20.4min\n",
      "[CV] .... colsample_bytree=0.9, subsample=0.6, score=0.632884 -21.6min\n"
     ]
    },
    {
     "name": "stderr",
     "output_type": "stream",
     "text": [
      "[Parallel(n_jobs=32)]: Done  52 out of  75 | elapsed: 38.0min remaining: 16.8min\n"
     ]
    },
    {
     "name": "stdout",
     "output_type": "stream",
     "text": [
      "[CV] .... colsample_bytree=0.9, subsample=1.0, score=0.632353 -20.2min\n",
      "[CV] .... colsample_bytree=0.9, subsample=0.9, score=0.633773 -20.6min\n",
      "[CV] .... colsample_bytree=0.9, subsample=0.7, score=0.634868 -21.5min\n",
      "[CV] .... colsample_bytree=0.9, subsample=0.7, score=0.634866 -21.2min\n"
     ]
    },
    {
     "name": "stderr",
     "output_type": "stream",
     "text": [
      "[Parallel(n_jobs=32)]: Done  56 out of  75 | elapsed: 38.1min remaining: 12.9min\n"
     ]
    },
    {
     "name": "stdout",
     "output_type": "stream",
     "text": [
      "[CV] .... colsample_bytree=0.9, subsample=0.9, score=0.632629 -20.5min\n",
      "[CV] .... colsample_bytree=0.9, subsample=1.0, score=0.632070 -20.1min\n",
      "[CV] .... colsample_bytree=0.9, subsample=0.8, score=0.632720 -20.9min\n",
      "[CV] .... colsample_bytree=0.9, subsample=0.7, score=0.633162 -21.5min\n"
     ]
    },
    {
     "name": "stderr",
     "output_type": "stream",
     "text": [
      "[Parallel(n_jobs=32)]: Done  60 out of  75 | elapsed: 38.5min remaining:  9.6min\n"
     ]
    },
    {
     "name": "stdout",
     "output_type": "stream",
     "text": [
      "[CV] .... colsample_bytree=1.0, subsample=0.6, score=0.634964 -21.7min\n",
      "[CV] .... colsample_bytree=1.0, subsample=0.6, score=0.635033 -21.1min\n",
      "[CV] .... colsample_bytree=1.0, subsample=0.7, score=0.634536 -20.4min\n",
      "[CV] .... colsample_bytree=1.0, subsample=0.6, score=0.632946 -21.0min\n"
     ]
    },
    {
     "name": "stderr",
     "output_type": "stream",
     "text": [
      "[Parallel(n_jobs=32)]: Done  64 out of  75 | elapsed: 40.7min remaining:  7.0min\n"
     ]
    },
    {
     "name": "stdout",
     "output_type": "stream",
     "text": [
      "[CV] .... colsample_bytree=1.0, subsample=0.7, score=0.634453 -12.4min\n",
      "[CV] .... colsample_bytree=1.0, subsample=0.8, score=0.632748 -12.4min\n",
      "[CV] .... colsample_bytree=1.0, subsample=0.9, score=0.633831 -12.4min\n",
      "[CV] .... colsample_bytree=1.0, subsample=1.0, score=0.633068 -12.5min\n"
     ]
    },
    {
     "name": "stderr",
     "output_type": "stream",
     "text": [
      "[Parallel(n_jobs=32)]: Done  68 out of  75 | elapsed: 46.0min remaining:  4.7min\n"
     ]
    },
    {
     "name": "stdout",
     "output_type": "stream",
     "text": [
      "[CV] .... colsample_bytree=1.0, subsample=1.0, score=0.631619 -12.7min\n",
      "[CV] .... colsample_bytree=1.0, subsample=0.9, score=0.633647 -13.1min\n",
      "[CV] .... colsample_bytree=1.0, subsample=0.8, score=0.634367 -13.3min\n",
      "[CV] .... colsample_bytree=1.0, subsample=0.8, score=0.634589 -13.4min\n"
     ]
    },
    {
     "name": "stderr",
     "output_type": "stream",
     "text": [
      "[Parallel(n_jobs=32)]: Done  72 out of  75 | elapsed: 46.3min remaining:  1.9min\n"
     ]
    },
    {
     "name": "stdout",
     "output_type": "stream",
     "text": [
      "[CV] .... colsample_bytree=1.0, subsample=0.9, score=0.632603 -13.1min\n",
      "[CV] .... colsample_bytree=1.0, subsample=1.0, score=0.630687 -12.9min\n",
      "[CV] .... colsample_bytree=1.0, subsample=0.7, score=0.632767 -13.7min\n"
     ]
    },
    {
     "name": "stderr",
     "output_type": "stream",
     "text": [
      "[Parallel(n_jobs=32)]: Done  75 out of  75 | elapsed: 46.6min finished\n"
     ]
    },
    {
     "name": "stdout",
     "output_type": "stream",
     "text": [
      "{'colsample_bytree': 0.6, 'subsample': 0.6}\n",
      "0.6352723459471995\n",
      "CPU times: user 10min 1s, sys: 3.6 s, total: 10min 5s\n",
      "Wall time: 56min 4s\n"
     ]
    }
   ],
   "source": [
    "%%time\n",
    "bestgama = gsearch2.best_params_['gamma']\n",
    "model.set_params(n_estimators = 355)\n",
    "model.set_params(learning_rate=0.01)\n",
    "model.set_params(max_depth = 7)\n",
    "model.set_params(min_child_weight = 1)\n",
    "model.set_params(gamma = bestgama)\n",
    "\n",
    "param_test3 = {\n",
    "'subsample' : [i/10.0 for i in range(6,11)],\n",
    "'colsample_bytree' : [i/10.0 for i in range(6,11)]\n",
    "}\n",
    "gsearch3 = GridSearchCV(estimator = model, param_grid = param_test3, scoring = 'roc_auc',n_jobs = 32, iid = False, cv = cv_folds, verbose = 25)\n",
    "gsearch3.fit(X,y)\n",
    "print (gsearch3.best_params_)\n",
    "print (gsearch3.best_score_)"
   ]
  },
  {
   "cell_type": "code",
   "execution_count": 24,
   "metadata": {
    "scrolled": true
   },
   "outputs": [
    {
     "name": "stdout",
     "output_type": "stream",
     "text": [
      "Fitting 3 folds for each of 5 candidates, totalling 15 fits\n",
      "[CV] reg_alpha=1e-06 .................................................\n",
      "[CV] reg_alpha=1e-06 .................................................\n",
      "[CV] reg_alpha=1e-06 .................................................\n",
      "[CV] reg_alpha=3e-06 .................................................\n",
      "[CV] reg_alpha=3e-06 .................................................\n",
      "[CV] reg_alpha=3e-06 .................................................\n",
      "[CV] reg_alpha=5e-06 .................................................\n",
      "[CV] reg_alpha=5e-06 .................................................\n",
      "[CV] reg_alpha=5e-06 .................................................\n",
      "[CV] reg_alpha=8e-06 .................................................\n",
      "[CV] reg_alpha=8e-06 .................................................\n",
      "[CV] reg_alpha=8e-06 .................................................\n",
      "[CV] reg_alpha=1e-05 .................................................\n",
      "[CV] reg_alpha=1e-05 .................................................\n",
      "[CV] reg_alpha=1e-05 .................................................\n",
      "[CV] ........................................ reg_alpha=1e-06 - 6.5min\n",
      "[CV] ........................................ reg_alpha=1e-05 - 6.6min\n",
      "[CV] ........................................ reg_alpha=1e-06 - 6.7min\n",
      "[CV] ........................................ reg_alpha=1e-05 - 6.7min\n",
      "[CV] ........................................ reg_alpha=1e-06 - 6.8min\n",
      "[CV] ........................................ reg_alpha=5e-06 - 8.4min\n",
      "[CV] ........................................ reg_alpha=3e-06 - 8.5min\n",
      "[CV] ........................................ reg_alpha=1e-05 - 8.5min\n"
     ]
    },
    {
     "name": "stderr",
     "output_type": "stream",
     "text": [
      "[Parallel(n_jobs=32)]: Done   8 out of  15 | elapsed:  8.6min remaining:  7.6min\n"
     ]
    },
    {
     "name": "stdout",
     "output_type": "stream",
     "text": [
      "[CV] ........................................ reg_alpha=5e-06 - 8.6min\n",
      "[CV] ........................................ reg_alpha=8e-06 - 8.6min\n",
      "[CV] ........................................ reg_alpha=5e-06 - 8.6min\n",
      "[CV] ........................................ reg_alpha=3e-06 - 8.7min\n",
      "[CV] ........................................ reg_alpha=8e-06 - 8.7min\n",
      "[CV] ........................................ reg_alpha=3e-06 - 8.7min\n",
      "[CV] ........................................ reg_alpha=8e-06 - 8.8min\n"
     ]
    },
    {
     "name": "stderr",
     "output_type": "stream",
     "text": [
      "[Parallel(n_jobs=32)]: Done  15 out of  15 | elapsed:  8.9min finished\n"
     ]
    },
    {
     "name": "stdout",
     "output_type": "stream",
     "text": [
      "{'reg_alpha': 8e-06}\n",
      "0.6352723571594193\n",
      "CPU times: user 8min 57s, sys: 1.36 s, total: 8min 58s\n",
      "Wall time: 17min 43s\n"
     ]
    }
   ],
   "source": [
    "%%time\n",
    "bestgama = gsearch2.best_params_['gamma']\n",
    "subsampleratio = gsearch3.best_params_['subsample']\n",
    "colsamplebytree = gsearch3.best_params_['colsample_bytree']\n",
    "\n",
    "model.set_params(subsample = subsampleratio)\n",
    "model.set_params(colsample_bytree = colsamplebytree)\n",
    "model.set_params(n_estimators = 355)\n",
    "model.set_params(learning_rate=0.01)\n",
    "model.set_params(max_depth = 7)\n",
    "model.set_params(min_child_weight = 1)\n",
    "model.set_params(gamma = bestgama)\n",
    "\n",
    "param_test4 = {\n",
    "'reg_alpha':[1e-6, 3e-6, 5e-6, 8e-6, 1e-5]\n",
    "}\n",
    "gsearch4 = GridSearchCV(estimator = model, param_grid = param_test4, scoring = 'roc_auc',n_jobs = 32, iid = False, cv = cv_folds, verbose = 2)\n",
    "gsearch4.fit(X,y)\n",
    "print (gsearch4.best_params_)\n",
    "print (gsearch4.best_score_)"
   ]
  },
  {
   "cell_type": "code",
   "execution_count": 25,
   "metadata": {
    "scrolled": true
   },
   "outputs": [
    {
     "name": "stdout",
     "output_type": "stream",
     "text": [
      "Fitting 2 folds for each of 7 candidates, totalling 14 fits\n",
      "Pickling array (shape=(36,), dtype=object).\n",
      "Memmaping (shape=(17, 595212), dtype=float64) to new file /dev/shm/joblib_memmaping_pool_8285_139713382738688/8285-139710009241784-c8320333ef89c199cb2d02fd012d0c1e.pkl\n",
      "[CV] learning_rate=0.01 ..............................................\n",
      "Memmaping (shape=(19, 595212), dtype=int64) to new file /dev/shm/joblib_memmaping_pool_8285_139713382738688/8285-139710009241784-03bdd15f4dd52eb08719e21b90244dbe.pkl\n",
      "Pickling array (shape=(17,), dtype=object).\n",
      "Pickling array (shape=(19,), dtype=object).\n",
      "Pickling array (shape=(17,), dtype=int64).\n",
      "Pickling array (shape=(19,), dtype=int64).\n",
      "Memmaping (shape=(595212,), dtype=int64) to new file /dev/shm/joblib_memmaping_pool_8285_139713382738688/8285-139710009241784-398dd08d7946d7598ece4fcdc755b613.pkl\n",
      "Memmaping (shape=(297606,), dtype=int64) to new file /dev/shm/joblib_memmaping_pool_8285_139713382738688/8285-139710009241784-f564ceb6e86b12862f2605b301acae5d.pkl\n",
      "Memmaping (shape=(297606,), dtype=int64) to new file /dev/shm/joblib_memmaping_pool_8285_139713382738688/8285-139710009241784-e3f6c41bad597244b36677ef9378d1e5.pkl\n",
      "Pickling array (shape=(36,), dtype=object).\n",
      "Memmaping (shape=(17, 595212), dtype=float64) to old file /dev/shm/joblib_memmaping_pool_8285_139713382738688/8285-139710009241784-c8320333ef89c199cb2d02fd012d0c1e.pkl\n",
      "Memmaping (shape=(19, 595212), dtype=int64) to old file /dev/shm/joblib_memmaping_pool_8285_139713382738688/8285-139710009241784-03bdd15f4dd52eb08719e21b90244dbe.pkl\n",
      "Pickling array (shape=(17,), dtype=object).\n",
      "Pickling array (shape=(19,), dtype=object).\n",
      "Pickling array (shape=(17,), dtype=int64).\n",
      "Pickling array (shape=(19,), dtype=int64).\n",
      "[CV] learning_rate=0.01 ..............................................\n",
      "Memmaping (shape=(595212,), dtype=int64) to old file /dev/shm/joblib_memmaping_pool_8285_139713382738688/8285-139710009241784-398dd08d7946d7598ece4fcdc755b613.pkl\n",
      "Memmaping (shape=(297606,), dtype=int64) to old file /dev/shm/joblib_memmaping_pool_8285_139713382738688/8285-139710009241784-e3f6c41bad597244b36677ef9378d1e5.pkl\n",
      "Memmaping (shape=(297606,), dtype=int64) to old file /dev/shm/joblib_memmaping_pool_8285_139713382738688/8285-139710009241784-f564ceb6e86b12862f2605b301acae5d.pkl\n",
      "Pickling array (shape=(36,), dtype=object).\n",
      "Memmaping (shape=(17, 595212), dtype=float64) to old file /dev/shm/joblib_memmaping_pool_8285_139713382738688/8285-139710009241784-c8320333ef89c199cb2d02fd012d0c1e.pkl\n",
      "[CV] learning_rate=0.013 .............................................\n",
      "Memmaping (shape=(19, 595212), dtype=int64) to old file /dev/shm/joblib_memmaping_pool_8285_139713382738688/8285-139710009241784-03bdd15f4dd52eb08719e21b90244dbe.pkl\n",
      "Pickling array (shape=(17,), dtype=object).\n",
      "Pickling array (shape=(19,), dtype=object).\n",
      "Pickling array (shape=(17,), dtype=int64).\n",
      "Pickling array (shape=(19,), dtype=int64).\n",
      "Memmaping (shape=(595212,), dtype=int64) to old file /dev/shm/joblib_memmaping_pool_8285_139713382738688/8285-139710009241784-398dd08d7946d7598ece4fcdc755b613.pkl\n",
      "Memmaping (shape=(297606,), dtype=int64) to old file /dev/shm/joblib_memmaping_pool_8285_139713382738688/8285-139710009241784-f564ceb6e86b12862f2605b301acae5d.pkl\n",
      "Memmaping (shape=(297606,), dtype=int64) to old file /dev/shm/joblib_memmaping_pool_8285_139713382738688/8285-139710009241784-e3f6c41bad597244b36677ef9378d1e5.pkl\n",
      "Pickling array (shape=(36,), dtype=object).\n",
      "Memmaping (shape=(17, 595212), dtype=float64) to old file /dev/shm/joblib_memmaping_pool_8285_139713382738688/8285-139710009241784-c8320333ef89c199cb2d02fd012d0c1e.pkl\n",
      "[CV] learning_rate=0.013 .............................................\n",
      "Memmaping (shape=(19, 595212), dtype=int64) to old file /dev/shm/joblib_memmaping_pool_8285_139713382738688/8285-139710009241784-03bdd15f4dd52eb08719e21b90244dbe.pkl\n",
      "Pickling array (shape=(17,), dtype=object).\n",
      "Pickling array (shape=(19,), dtype=object).\n",
      "Pickling array (shape=(17,), dtype=int64).\n",
      "Pickling array (shape=(19,), dtype=int64).\n",
      "Memmaping (shape=(595212,), dtype=int64) to old file /dev/shm/joblib_memmaping_pool_8285_139713382738688/8285-139710009241784-398dd08d7946d7598ece4fcdc755b613.pkl\n",
      "Memmaping (shape=(297606,), dtype=int64) to old file /dev/shm/joblib_memmaping_pool_8285_139713382738688/8285-139710009241784-e3f6c41bad597244b36677ef9378d1e5.pkl\n",
      "Memmaping (shape=(297606,), dtype=int64) to old file /dev/shm/joblib_memmaping_pool_8285_139713382738688/8285-139710009241784-f564ceb6e86b12862f2605b301acae5d.pkl\n",
      "Pickling array (shape=(36,), dtype=object).\n",
      "Memmaping (shape=(17, 595212), dtype=float64) to old file /dev/shm/joblib_memmaping_pool_8285_139713382738688/8285-139710009241784-c8320333ef89c199cb2d02fd012d0c1e.pkl\n",
      "[CV] learning_rate=0.016 .............................................\n",
      "Memmaping (shape=(19, 595212), dtype=int64) to old file /dev/shm/joblib_memmaping_pool_8285_139713382738688/8285-139710009241784-03bdd15f4dd52eb08719e21b90244dbe.pkl\n",
      "Pickling array (shape=(17,), dtype=object).\n",
      "Pickling array (shape=(19,), dtype=object).\n",
      "Pickling array (shape=(17,), dtype=int64).\n",
      "Pickling array (shape=(19,), dtype=int64).\n",
      "Memmaping (shape=(595212,), dtype=int64) to old file /dev/shm/joblib_memmaping_pool_8285_139713382738688/8285-139710009241784-398dd08d7946d7598ece4fcdc755b613.pkl\n",
      "Memmaping (shape=(297606,), dtype=int64) to old file /dev/shm/joblib_memmaping_pool_8285_139713382738688/8285-139710009241784-f564ceb6e86b12862f2605b301acae5d.pkl\n",
      "Memmaping (shape=(297606,), dtype=int64) to old file /dev/shm/joblib_memmaping_pool_8285_139713382738688/8285-139710009241784-e3f6c41bad597244b36677ef9378d1e5.pkl\n",
      "Pickling array (shape=(36,), dtype=object).\n",
      "Memmaping (shape=(17, 595212), dtype=float64) to old file /dev/shm/joblib_memmaping_pool_8285_139713382738688/8285-139710009241784-c8320333ef89c199cb2d02fd012d0c1e.pkl\n",
      "[CV] learning_rate=0.016 .............................................\n",
      "Memmaping (shape=(19, 595212), dtype=int64) to old file /dev/shm/joblib_memmaping_pool_8285_139713382738688/8285-139710009241784-03bdd15f4dd52eb08719e21b90244dbe.pkl\n",
      "Pickling array (shape=(17,), dtype=object).\n",
      "Pickling array (shape=(19,), dtype=object).\n",
      "Pickling array (shape=(17,), dtype=int64).\n",
      "Pickling array (shape=(19,), dtype=int64).\n",
      "Memmaping (shape=(595212,), dtype=int64) to old file /dev/shm/joblib_memmaping_pool_8285_139713382738688/8285-139710009241784-398dd08d7946d7598ece4fcdc755b613.pkl\n",
      "Memmaping (shape=(297606,), dtype=int64) to old file /dev/shm/joblib_memmaping_pool_8285_139713382738688/8285-139710009241784-e3f6c41bad597244b36677ef9378d1e5.pkl\n",
      "Memmaping (shape=(297606,), dtype=int64) to old file /dev/shm/joblib_memmaping_pool_8285_139713382738688/8285-139710009241784-f564ceb6e86b12862f2605b301acae5d.pkl\n",
      "Pickling array (shape=(36,), dtype=object).\n",
      "Memmaping (shape=(17, 595212), dtype=float64) to old file /dev/shm/joblib_memmaping_pool_8285_139713382738688/8285-139710009241784-c8320333ef89c199cb2d02fd012d0c1e.pkl\n",
      "[CV] learning_rate=0.019 .............................................\n",
      "Memmaping (shape=(19, 595212), dtype=int64) to old file /dev/shm/joblib_memmaping_pool_8285_139713382738688/8285-139710009241784-03bdd15f4dd52eb08719e21b90244dbe.pkl\n",
      "Pickling array (shape=(17,), dtype=object).\n",
      "Pickling array (shape=(19,), dtype=object).\n",
      "Pickling array (shape=(17,), dtype=int64).\n",
      "Pickling array (shape=(19,), dtype=int64).\n",
      "Memmaping (shape=(595212,), dtype=int64) to old file /dev/shm/joblib_memmaping_pool_8285_139713382738688/8285-139710009241784-398dd08d7946d7598ece4fcdc755b613.pkl\n",
      "Memmaping (shape=(297606,), dtype=int64) to old file /dev/shm/joblib_memmaping_pool_8285_139713382738688/8285-139710009241784-f564ceb6e86b12862f2605b301acae5d.pkl\n",
      "Memmaping (shape=(297606,), dtype=int64) to old file /dev/shm/joblib_memmaping_pool_8285_139713382738688/8285-139710009241784-e3f6c41bad597244b36677ef9378d1e5.pkl\n",
      "Pickling array (shape=(36,), dtype=object).\n",
      "Memmaping (shape=(17, 595212), dtype=float64) to old file /dev/shm/joblib_memmaping_pool_8285_139713382738688/8285-139710009241784-c8320333ef89c199cb2d02fd012d0c1e.pkl\n",
      "[CV] learning_rate=0.019 .............................................\n",
      "Memmaping (shape=(19, 595212), dtype=int64) to old file /dev/shm/joblib_memmaping_pool_8285_139713382738688/8285-139710009241784-03bdd15f4dd52eb08719e21b90244dbe.pkl\n",
      "Pickling array (shape=(17,), dtype=object).\n",
      "Pickling array (shape=(19,), dtype=object).\n",
      "Pickling array (shape=(17,), dtype=int64).\n",
      "Pickling array (shape=(19,), dtype=int64).\n",
      "Memmaping (shape=(595212,), dtype=int64) to old file /dev/shm/joblib_memmaping_pool_8285_139713382738688/8285-139710009241784-398dd08d7946d7598ece4fcdc755b613.pkl\n",
      "Memmaping (shape=(297606,), dtype=int64) to old file /dev/shm/joblib_memmaping_pool_8285_139713382738688/8285-139710009241784-e3f6c41bad597244b36677ef9378d1e5.pkl\n",
      "Memmaping (shape=(297606,), dtype=int64) to old file /dev/shm/joblib_memmaping_pool_8285_139713382738688/8285-139710009241784-f564ceb6e86b12862f2605b301acae5d.pkl\n",
      "Pickling array (shape=(36,), dtype=object).\n",
      "Memmaping (shape=(17, 595212), dtype=float64) to old file /dev/shm/joblib_memmaping_pool_8285_139713382738688/8285-139710009241784-c8320333ef89c199cb2d02fd012d0c1e.pkl\n"
     ]
    },
    {
     "name": "stdout",
     "output_type": "stream",
     "text": [
      "[CV] learning_rate=0.022 .............................................\n",
      "Memmaping (shape=(19, 595212), dtype=int64) to old file /dev/shm/joblib_memmaping_pool_8285_139713382738688/8285-139710009241784-03bdd15f4dd52eb08719e21b90244dbe.pkl\n",
      "Pickling array (shape=(17,), dtype=object).\n",
      "Pickling array (shape=(19,), dtype=object).\n",
      "Pickling array (shape=(17,), dtype=int64).\n",
      "Pickling array (shape=(19,), dtype=int64).\n",
      "Memmaping (shape=(595212,), dtype=int64) to old file /dev/shm/joblib_memmaping_pool_8285_139713382738688/8285-139710009241784-398dd08d7946d7598ece4fcdc755b613.pkl\n",
      "Memmaping (shape=(297606,), dtype=int64) to old file /dev/shm/joblib_memmaping_pool_8285_139713382738688/8285-139710009241784-f564ceb6e86b12862f2605b301acae5d.pkl\n",
      "Memmaping (shape=(297606,), dtype=int64) to old file /dev/shm/joblib_memmaping_pool_8285_139713382738688/8285-139710009241784-e3f6c41bad597244b36677ef9378d1e5.pkl\n",
      "Pickling array (shape=(36,), dtype=object).\n",
      "Memmaping (shape=(17, 595212), dtype=float64) to old file /dev/shm/joblib_memmaping_pool_8285_139713382738688/8285-139710009241784-c8320333ef89c199cb2d02fd012d0c1e.pkl\n",
      "[CV] learning_rate=0.022 .............................................\n",
      "Memmaping (shape=(19, 595212), dtype=int64) to old file /dev/shm/joblib_memmaping_pool_8285_139713382738688/8285-139710009241784-03bdd15f4dd52eb08719e21b90244dbe.pkl\n",
      "Pickling array (shape=(17,), dtype=object).\n",
      "Pickling array (shape=(19,), dtype=object).\n",
      "Pickling array (shape=(17,), dtype=int64).\n",
      "Pickling array (shape=(19,), dtype=int64).\n",
      "Memmaping (shape=(595212,), dtype=int64) to old file /dev/shm/joblib_memmaping_pool_8285_139713382738688/8285-139710009241784-398dd08d7946d7598ece4fcdc755b613.pkl\n",
      "Memmaping (shape=(297606,), dtype=int64) to old file /dev/shm/joblib_memmaping_pool_8285_139713382738688/8285-139710009241784-e3f6c41bad597244b36677ef9378d1e5.pkl\n",
      "Memmaping (shape=(297606,), dtype=int64) to old file /dev/shm/joblib_memmaping_pool_8285_139713382738688/8285-139710009241784-f564ceb6e86b12862f2605b301acae5d.pkl\n",
      "Pickling array (shape=(36,), dtype=object).\n",
      "Memmaping (shape=(17, 595212), dtype=float64) to old file /dev/shm/joblib_memmaping_pool_8285_139713382738688/8285-139710009241784-c8320333ef89c199cb2d02fd012d0c1e.pkl\n",
      "[CV] learning_rate=0.025 .............................................\n",
      "Memmaping (shape=(19, 595212), dtype=int64) to old file /dev/shm/joblib_memmaping_pool_8285_139713382738688/8285-139710009241784-03bdd15f4dd52eb08719e21b90244dbe.pkl\n",
      "Pickling array (shape=(17,), dtype=object).\n",
      "Pickling array (shape=(19,), dtype=object).\n",
      "Pickling array (shape=(17,), dtype=int64).\n",
      "Pickling array (shape=(19,), dtype=int64).\n",
      "Memmaping (shape=(595212,), dtype=int64) to old file /dev/shm/joblib_memmaping_pool_8285_139713382738688/8285-139710009241784-398dd08d7946d7598ece4fcdc755b613.pkl\n",
      "Memmaping (shape=(297606,), dtype=int64) to old file /dev/shm/joblib_memmaping_pool_8285_139713382738688/8285-139710009241784-f564ceb6e86b12862f2605b301acae5d.pkl\n",
      "Memmaping (shape=(297606,), dtype=int64) to old file /dev/shm/joblib_memmaping_pool_8285_139713382738688/8285-139710009241784-e3f6c41bad597244b36677ef9378d1e5.pkl\n",
      "Pickling array (shape=(36,), dtype=object).\n",
      "Memmaping (shape=(17, 595212), dtype=float64) to old file /dev/shm/joblib_memmaping_pool_8285_139713382738688/8285-139710009241784-c8320333ef89c199cb2d02fd012d0c1e.pkl\n",
      "[CV] learning_rate=0.025 .............................................\n",
      "Memmaping (shape=(19, 595212), dtype=int64) to old file /dev/shm/joblib_memmaping_pool_8285_139713382738688/8285-139710009241784-03bdd15f4dd52eb08719e21b90244dbe.pkl\n",
      "Pickling array (shape=(17,), dtype=object).\n",
      "Pickling array (shape=(19,), dtype=object).\n",
      "Pickling array (shape=(17,), dtype=int64).\n",
      "Pickling array (shape=(19,), dtype=int64).\n",
      "Memmaping (shape=(595212,), dtype=int64) to old file /dev/shm/joblib_memmaping_pool_8285_139713382738688/8285-139710009241784-398dd08d7946d7598ece4fcdc755b613.pkl\n",
      "Memmaping (shape=(297606,), dtype=int64) to old file /dev/shm/joblib_memmaping_pool_8285_139713382738688/8285-139710009241784-e3f6c41bad597244b36677ef9378d1e5.pkl\n",
      "Memmaping (shape=(297606,), dtype=int64) to old file /dev/shm/joblib_memmaping_pool_8285_139713382738688/8285-139710009241784-f564ceb6e86b12862f2605b301acae5d.pkl\n",
      "Pickling array (shape=(36,), dtype=object).\n",
      "Memmaping (shape=(17, 595212), dtype=float64) to old file /dev/shm/joblib_memmaping_pool_8285_139713382738688/8285-139710009241784-c8320333ef89c199cb2d02fd012d0c1e.pkl\n",
      "[CV] learning_rate=0.028 .............................................\n",
      "Memmaping (shape=(19, 595212), dtype=int64) to old file /dev/shm/joblib_memmaping_pool_8285_139713382738688/8285-139710009241784-03bdd15f4dd52eb08719e21b90244dbe.pkl\n",
      "Pickling array (shape=(17,), dtype=object).\n",
      "Pickling array (shape=(19,), dtype=object).\n",
      "Pickling array (shape=(17,), dtype=int64).\n",
      "Pickling array (shape=(19,), dtype=int64).\n",
      "Memmaping (shape=(595212,), dtype=int64) to old file /dev/shm/joblib_memmaping_pool_8285_139713382738688/8285-139710009241784-398dd08d7946d7598ece4fcdc755b613.pkl\n",
      "Memmaping (shape=(297606,), dtype=int64) to old file /dev/shm/joblib_memmaping_pool_8285_139713382738688/8285-139710009241784-f564ceb6e86b12862f2605b301acae5d.pkl\n",
      "Memmaping (shape=(297606,), dtype=int64) to old file /dev/shm/joblib_memmaping_pool_8285_139713382738688/8285-139710009241784-e3f6c41bad597244b36677ef9378d1e5.pkl\n",
      "Pickling array (shape=(36,), dtype=object).\n",
      "Memmaping (shape=(17, 595212), dtype=float64) to old file /dev/shm/joblib_memmaping_pool_8285_139713382738688/8285-139710009241784-c8320333ef89c199cb2d02fd012d0c1e.pkl\n",
      "[CV] learning_rate=0.028 .............................................\n",
      "Memmaping (shape=(19, 595212), dtype=int64) to old file /dev/shm/joblib_memmaping_pool_8285_139713382738688/8285-139710009241784-03bdd15f4dd52eb08719e21b90244dbe.pkl\n",
      "Pickling array (shape=(17,), dtype=object).\n",
      "Pickling array (shape=(19,), dtype=object).\n",
      "Pickling array (shape=(17,), dtype=int64).\n",
      "Pickling array (shape=(19,), dtype=int64).\n",
      "Memmaping (shape=(595212,), dtype=int64) to old file /dev/shm/joblib_memmaping_pool_8285_139713382738688/8285-139710009241784-398dd08d7946d7598ece4fcdc755b613.pkl\n",
      "Memmaping (shape=(297606,), dtype=int64) to old file /dev/shm/joblib_memmaping_pool_8285_139713382738688/8285-139710009241784-e3f6c41bad597244b36677ef9378d1e5.pkl\n",
      "Memmaping (shape=(297606,), dtype=int64) to old file /dev/shm/joblib_memmaping_pool_8285_139713382738688/8285-139710009241784-f564ceb6e86b12862f2605b301acae5d.pkl\n",
      "[CV] .................... learning_rate=0.013, score=0.634678 - 4.7min\n",
      "[Parallel(n_jobs=32)]: Done   1 tasks      | elapsed:  4.7min\n",
      "[CV] .................... learning_rate=0.022, score=0.635921 - 4.7min\n",
      "[Parallel(n_jobs=32)]: Done   2 out of  14 | elapsed:  4.8min remaining: 28.5min\n",
      "[CV] .................... learning_rate=0.028, score=0.635542 - 4.7min\n",
      "[Parallel(n_jobs=32)]: Done   3 out of  14 | elapsed:  4.8min remaining: 17.5min\n",
      "[CV] .................... learning_rate=0.025, score=0.638500 - 4.8min\n",
      "[Parallel(n_jobs=32)]: Done   4 out of  14 | elapsed:  4.8min remaining: 12.1min\n",
      "[CV] .................... learning_rate=0.019, score=0.636516 - 4.8min\n",
      "[Parallel(n_jobs=32)]: Done   5 out of  14 | elapsed:  4.9min remaining:  8.7min\n",
      "[CV] .................... learning_rate=0.028, score=0.638590 - 4.9min\n",
      "[Parallel(n_jobs=32)]: Done   6 out of  14 | elapsed:  5.0min remaining:  6.7min\n",
      "[CV] ..................... learning_rate=0.01, score=0.632538 - 5.2min\n",
      "[Parallel(n_jobs=32)]: Done   7 out of  14 | elapsed:  5.2min remaining:  5.2min\n",
      "[CV] .................... learning_rate=0.016, score=0.635623 - 5.2min\n",
      "[Parallel(n_jobs=32)]: Done   8 out of  14 | elapsed:  5.3min remaining:  3.9min\n",
      "[CV] ..................... learning_rate=0.01, score=0.634685 - 5.3min\n",
      "[Parallel(n_jobs=32)]: Done   9 out of  14 | elapsed:  5.3min remaining:  2.9min\n",
      "[CV] .................... learning_rate=0.025, score=0.636021 - 5.2min\n",
      "[Parallel(n_jobs=32)]: Done  10 out of  14 | elapsed:  5.3min remaining:  2.1min\n",
      "[CV] .................... learning_rate=0.013, score=0.636479 - 5.3min\n",
      "[Parallel(n_jobs=32)]: Done  11 out of  14 | elapsed:  5.3min remaining:  1.5min\n",
      "[CV] .................... learning_rate=0.019, score=0.638866 - 5.3min\n",
      "[Parallel(n_jobs=32)]: Done  12 out of  14 | elapsed:  5.3min remaining:   53.4s\n"
     ]
    },
    {
     "name": "stdout",
     "output_type": "stream",
     "text": [
      "[CV] .................... learning_rate=0.016, score=0.637798 - 5.3min\n",
      "[CV] .................... learning_rate=0.022, score=0.638142 - 5.3min\n",
      "[Parallel(n_jobs=32)]: Done  14 out of  14 | elapsed:  5.4min remaining:    0.0s\n",
      "[Parallel(n_jobs=32)]: Done  14 out of  14 | elapsed:  5.4min finished\n",
      "{'learning_rate': 0.019}\n",
      "0.6376907986679627\n",
      "CPU times: user 9min 2s, sys: 1.25 s, total: 9min 3s\n",
      "Wall time: 14min 19s\n"
     ]
    }
   ],
   "source": [
    "%%time\n",
    "bestgama = gsearch2.best_params_['gamma']\n",
    "subsampleratio = gsearch3.best_params_['subsample']\n",
    "colsamplebytree = gsearch3.best_params_['colsample_bytree']\n",
    "bestalpha = gsearch4.best_params_['reg_alpha']\n",
    "\n",
    "model.set_params(subsample = subsampleratio)\n",
    "model.set_params(colsample_bytree = colsamplebytree)\n",
    "model.set_params(n_estimators = 355)\n",
    "model.set_params(learning_rate=0.01)\n",
    "model.set_params(max_depth = 7)\n",
    "model.set_params(min_child_weight = 1)\n",
    "model.set_params(gamma = bestgama)\n",
    "model.set_params(reg_alpha = bestalpha)\n",
    "\n",
    "param_test6 = {\n",
    "'learning_rate':[i/1000 for i in range(10,30,3)]\n",
    "}\n",
    "gsearch6 = GridSearchCV(estimator = model, param_grid = param_test6, scoring = 'roc_auc',n_jobs = 32, iid = False, cv = 2, verbose = 200)\n",
    "gsearch6.fit(X,y)\n",
    "print (gsearch6.best_params_)\n",
    "print (gsearch6.best_score_)"
   ]
  },
  {
   "cell_type": "code",
   "execution_count": 29,
   "metadata": {
    "scrolled": true
   },
   "outputs": [
    {
     "name": "stdout",
     "output_type": "stream",
     "text": [
      "Fitting 2 folds for each of 6 candidates, totalling 12 fits\n",
      "Pickling array (shape=(36,), dtype=object).\n",
      "Memmaping (shape=(17, 595212), dtype=float64) to new file /dev/shm/joblib_memmaping_pool_8285_139710009253960/8285-139710009295928-c8320333ef89c199cb2d02fd012d0c1e.pkl\n",
      "[CV] reg_lambda=0.002 ................................................\n",
      "Memmaping (shape=(19, 595212), dtype=int64) to new file /dev/shm/joblib_memmaping_pool_8285_139710009253960/8285-139710009295928-03bdd15f4dd52eb08719e21b90244dbe.pkl\n",
      "Pickling array (shape=(17,), dtype=object).\n",
      "Pickling array (shape=(19,), dtype=object).\n",
      "Pickling array (shape=(17,), dtype=int64).\n",
      "Pickling array (shape=(19,), dtype=int64).\n",
      "Memmaping (shape=(595212,), dtype=int64) to new file /dev/shm/joblib_memmaping_pool_8285_139710009253960/8285-139710009295928-398dd08d7946d7598ece4fcdc755b613.pkl\n",
      "Memmaping (shape=(297606,), dtype=int64) to new file /dev/shm/joblib_memmaping_pool_8285_139710009253960/8285-139710009295928-f564ceb6e86b12862f2605b301acae5d.pkl\n",
      "Memmaping (shape=(297606,), dtype=int64) to new file /dev/shm/joblib_memmaping_pool_8285_139710009253960/8285-139710009295928-e3f6c41bad597244b36677ef9378d1e5.pkl\n",
      "Pickling array (shape=(36,), dtype=object).\n",
      "Memmaping (shape=(17, 595212), dtype=float64) to old file /dev/shm/joblib_memmaping_pool_8285_139710009253960/8285-139710009295928-c8320333ef89c199cb2d02fd012d0c1e.pkl\n",
      "Memmaping (shape=(19, 595212), dtype=int64) to old file /dev/shm/joblib_memmaping_pool_8285_139710009253960/8285-139710009295928-03bdd15f4dd52eb08719e21b90244dbe.pkl\n",
      "Pickling array (shape=(17,), dtype=object).\n",
      "Pickling array (shape=(19,), dtype=object).\n",
      "Pickling array (shape=(17,), dtype=int64).\n",
      "Pickling array (shape=(19,), dtype=int64).\n",
      "[CV] reg_lambda=0.002 ................................................\n",
      "Memmaping (shape=(595212,), dtype=int64) to old file /dev/shm/joblib_memmaping_pool_8285_139710009253960/8285-139710009295928-398dd08d7946d7598ece4fcdc755b613.pkl\n",
      "Memmaping (shape=(297606,), dtype=int64) to old file /dev/shm/joblib_memmaping_pool_8285_139710009253960/8285-139710009295928-e3f6c41bad597244b36677ef9378d1e5.pkl\n",
      "Memmaping (shape=(297606,), dtype=int64) to old file /dev/shm/joblib_memmaping_pool_8285_139710009253960/8285-139710009295928-f564ceb6e86b12862f2605b301acae5d.pkl\n",
      "Pickling array (shape=(36,), dtype=object).\n",
      "Memmaping (shape=(17, 595212), dtype=float64) to old file /dev/shm/joblib_memmaping_pool_8285_139710009253960/8285-139710009295928-c8320333ef89c199cb2d02fd012d0c1e.pkl\n",
      "[CV] reg_lambda=0.004 ................................................\n",
      "Memmaping (shape=(19, 595212), dtype=int64) to old file /dev/shm/joblib_memmaping_pool_8285_139710009253960/8285-139710009295928-03bdd15f4dd52eb08719e21b90244dbe.pkl\n",
      "Pickling array (shape=(17,), dtype=object).\n",
      "Pickling array (shape=(19,), dtype=object).\n",
      "Pickling array (shape=(17,), dtype=int64).\n",
      "Pickling array (shape=(19,), dtype=int64).\n",
      "Memmaping (shape=(595212,), dtype=int64) to old file /dev/shm/joblib_memmaping_pool_8285_139710009253960/8285-139710009295928-398dd08d7946d7598ece4fcdc755b613.pkl\n",
      "Memmaping (shape=(297606,), dtype=int64) to old file /dev/shm/joblib_memmaping_pool_8285_139710009253960/8285-139710009295928-f564ceb6e86b12862f2605b301acae5d.pkl\n",
      "Memmaping (shape=(297606,), dtype=int64) to old file /dev/shm/joblib_memmaping_pool_8285_139710009253960/8285-139710009295928-e3f6c41bad597244b36677ef9378d1e5.pkl\n",
      "Pickling array (shape=(36,), dtype=object).\n",
      "Memmaping (shape=(17, 595212), dtype=float64) to old file /dev/shm/joblib_memmaping_pool_8285_139710009253960/8285-139710009295928-c8320333ef89c199cb2d02fd012d0c1e.pkl\n",
      "[CV] reg_lambda=0.004 ................................................\n",
      "Memmaping (shape=(19, 595212), dtype=int64) to old file /dev/shm/joblib_memmaping_pool_8285_139710009253960/8285-139710009295928-03bdd15f4dd52eb08719e21b90244dbe.pkl\n",
      "Pickling array (shape=(17,), dtype=object).\n",
      "Pickling array (shape=(19,), dtype=object).\n",
      "Pickling array (shape=(17,), dtype=int64).\n",
      "Pickling array (shape=(19,), dtype=int64).\n",
      "Memmaping (shape=(595212,), dtype=int64) to old file /dev/shm/joblib_memmaping_pool_8285_139710009253960/8285-139710009295928-398dd08d7946d7598ece4fcdc755b613.pkl\n",
      "Memmaping (shape=(297606,), dtype=int64) to old file /dev/shm/joblib_memmaping_pool_8285_139710009253960/8285-139710009295928-e3f6c41bad597244b36677ef9378d1e5.pkl\n",
      "Memmaping (shape=(297606,), dtype=int64) to old file /dev/shm/joblib_memmaping_pool_8285_139710009253960/8285-139710009295928-f564ceb6e86b12862f2605b301acae5d.pkl\n",
      "Pickling array (shape=(36,), dtype=object).\n",
      "Memmaping (shape=(17, 595212), dtype=float64) to old file /dev/shm/joblib_memmaping_pool_8285_139710009253960/8285-139710009295928-c8320333ef89c199cb2d02fd012d0c1e.pkl\n",
      "[CV] reg_lambda=0.006 ................................................\n",
      "Memmaping (shape=(19, 595212), dtype=int64) to old file /dev/shm/joblib_memmaping_pool_8285_139710009253960/8285-139710009295928-03bdd15f4dd52eb08719e21b90244dbe.pkl\n",
      "Pickling array (shape=(17,), dtype=object).\n",
      "Pickling array (shape=(19,), dtype=object).\n",
      "Pickling array (shape=(17,), dtype=int64).\n",
      "Pickling array (shape=(19,), dtype=int64).\n",
      "Memmaping (shape=(595212,), dtype=int64) to old file /dev/shm/joblib_memmaping_pool_8285_139710009253960/8285-139710009295928-398dd08d7946d7598ece4fcdc755b613.pkl\n",
      "Memmaping (shape=(297606,), dtype=int64) to old file /dev/shm/joblib_memmaping_pool_8285_139710009253960/8285-139710009295928-f564ceb6e86b12862f2605b301acae5d.pkl\n",
      "Memmaping (shape=(297606,), dtype=int64) to old file /dev/shm/joblib_memmaping_pool_8285_139710009253960/8285-139710009295928-e3f6c41bad597244b36677ef9378d1e5.pkl\n",
      "Pickling array (shape=(36,), dtype=object).\n",
      "Memmaping (shape=(17, 595212), dtype=float64) to old file /dev/shm/joblib_memmaping_pool_8285_139710009253960/8285-139710009295928-c8320333ef89c199cb2d02fd012d0c1e.pkl\n",
      "[CV] reg_lambda=0.006 ................................................\n",
      "Memmaping (shape=(19, 595212), dtype=int64) to old file /dev/shm/joblib_memmaping_pool_8285_139710009253960/8285-139710009295928-03bdd15f4dd52eb08719e21b90244dbe.pkl\n",
      "Pickling array (shape=(17,), dtype=object).\n",
      "Pickling array (shape=(19,), dtype=object).\n",
      "Pickling array (shape=(17,), dtype=int64).\n",
      "Pickling array (shape=(19,), dtype=int64).\n",
      "Memmaping (shape=(595212,), dtype=int64) to old file /dev/shm/joblib_memmaping_pool_8285_139710009253960/8285-139710009295928-398dd08d7946d7598ece4fcdc755b613.pkl\n",
      "Memmaping (shape=(297606,), dtype=int64) to old file /dev/shm/joblib_memmaping_pool_8285_139710009253960/8285-139710009295928-e3f6c41bad597244b36677ef9378d1e5.pkl\n",
      "Memmaping (shape=(297606,), dtype=int64) to old file /dev/shm/joblib_memmaping_pool_8285_139710009253960/8285-139710009295928-f564ceb6e86b12862f2605b301acae5d.pkl\n",
      "Pickling array (shape=(36,), dtype=object).\n",
      "Memmaping (shape=(17, 595212), dtype=float64) to old file /dev/shm/joblib_memmaping_pool_8285_139710009253960/8285-139710009295928-c8320333ef89c199cb2d02fd012d0c1e.pkl\n",
      "[CV] reg_lambda=0.008 ................................................\n",
      "Memmaping (shape=(19, 595212), dtype=int64) to old file /dev/shm/joblib_memmaping_pool_8285_139710009253960/8285-139710009295928-03bdd15f4dd52eb08719e21b90244dbe.pkl\n",
      "Pickling array (shape=(17,), dtype=object).\n",
      "Pickling array (shape=(19,), dtype=object).\n",
      "Pickling array (shape=(17,), dtype=int64).\n",
      "Pickling array (shape=(19,), dtype=int64).\n",
      "Memmaping (shape=(595212,), dtype=int64) to old file /dev/shm/joblib_memmaping_pool_8285_139710009253960/8285-139710009295928-398dd08d7946d7598ece4fcdc755b613.pkl\n",
      "Memmaping (shape=(297606,), dtype=int64) to old file /dev/shm/joblib_memmaping_pool_8285_139710009253960/8285-139710009295928-f564ceb6e86b12862f2605b301acae5d.pkl\n",
      "Memmaping (shape=(297606,), dtype=int64) to old file /dev/shm/joblib_memmaping_pool_8285_139710009253960/8285-139710009295928-e3f6c41bad597244b36677ef9378d1e5.pkl\n",
      "Pickling array (shape=(36,), dtype=object).\n",
      "Memmaping (shape=(17, 595212), dtype=float64) to old file /dev/shm/joblib_memmaping_pool_8285_139710009253960/8285-139710009295928-c8320333ef89c199cb2d02fd012d0c1e.pkl\n",
      "[CV] reg_lambda=0.008 ................................................\n",
      "Memmaping (shape=(19, 595212), dtype=int64) to old file /dev/shm/joblib_memmaping_pool_8285_139710009253960/8285-139710009295928-03bdd15f4dd52eb08719e21b90244dbe.pkl\n",
      "Pickling array (shape=(17,), dtype=object).\n",
      "Pickling array (shape=(19,), dtype=object).\n",
      "Pickling array (shape=(17,), dtype=int64).\n",
      "Pickling array (shape=(19,), dtype=int64).\n",
      "Memmaping (shape=(595212,), dtype=int64) to old file /dev/shm/joblib_memmaping_pool_8285_139710009253960/8285-139710009295928-398dd08d7946d7598ece4fcdc755b613.pkl\n",
      "Memmaping (shape=(297606,), dtype=int64) to old file /dev/shm/joblib_memmaping_pool_8285_139710009253960/8285-139710009295928-e3f6c41bad597244b36677ef9378d1e5.pkl\n",
      "Memmaping (shape=(297606,), dtype=int64) to old file /dev/shm/joblib_memmaping_pool_8285_139710009253960/8285-139710009295928-f564ceb6e86b12862f2605b301acae5d.pkl\n",
      "Pickling array (shape=(36,), dtype=object).\n",
      "Memmaping (shape=(17, 595212), dtype=float64) to old file /dev/shm/joblib_memmaping_pool_8285_139710009253960/8285-139710009295928-c8320333ef89c199cb2d02fd012d0c1e.pkl\n"
     ]
    },
    {
     "name": "stdout",
     "output_type": "stream",
     "text": [
      "[CV] reg_lambda=0.01 .................................................\n",
      "Memmaping (shape=(19, 595212), dtype=int64) to old file /dev/shm/joblib_memmaping_pool_8285_139710009253960/8285-139710009295928-03bdd15f4dd52eb08719e21b90244dbe.pkl\n",
      "Pickling array (shape=(17,), dtype=object).\n",
      "Pickling array (shape=(19,), dtype=object).\n",
      "Pickling array (shape=(17,), dtype=int64).\n",
      "Pickling array (shape=(19,), dtype=int64).\n",
      "Memmaping (shape=(595212,), dtype=int64) to old file /dev/shm/joblib_memmaping_pool_8285_139710009253960/8285-139710009295928-398dd08d7946d7598ece4fcdc755b613.pkl\n",
      "Memmaping (shape=(297606,), dtype=int64) to old file /dev/shm/joblib_memmaping_pool_8285_139710009253960/8285-139710009295928-f564ceb6e86b12862f2605b301acae5d.pkl\n",
      "Memmaping (shape=(297606,), dtype=int64) to old file /dev/shm/joblib_memmaping_pool_8285_139710009253960/8285-139710009295928-e3f6c41bad597244b36677ef9378d1e5.pkl\n",
      "Pickling array (shape=(36,), dtype=object).\n",
      "Memmaping (shape=(17, 595212), dtype=float64) to old file /dev/shm/joblib_memmaping_pool_8285_139710009253960/8285-139710009295928-c8320333ef89c199cb2d02fd012d0c1e.pkl\n",
      "[CV] reg_lambda=0.01 .................................................\n",
      "Memmaping (shape=(19, 595212), dtype=int64) to old file /dev/shm/joblib_memmaping_pool_8285_139710009253960/8285-139710009295928-03bdd15f4dd52eb08719e21b90244dbe.pkl\n",
      "Pickling array (shape=(17,), dtype=object).\n",
      "Pickling array (shape=(19,), dtype=object).\n",
      "Pickling array (shape=(17,), dtype=int64).\n",
      "Pickling array (shape=(19,), dtype=int64).\n",
      "Memmaping (shape=(595212,), dtype=int64) to old file /dev/shm/joblib_memmaping_pool_8285_139710009253960/8285-139710009295928-398dd08d7946d7598ece4fcdc755b613.pkl\n",
      "Memmaping (shape=(297606,), dtype=int64) to old file /dev/shm/joblib_memmaping_pool_8285_139710009253960/8285-139710009295928-e3f6c41bad597244b36677ef9378d1e5.pkl\n",
      "Memmaping (shape=(297606,), dtype=int64) to old file /dev/shm/joblib_memmaping_pool_8285_139710009253960/8285-139710009295928-f564ceb6e86b12862f2605b301acae5d.pkl\n",
      "Pickling array (shape=(36,), dtype=object).\n",
      "Memmaping (shape=(17, 595212), dtype=float64) to old file /dev/shm/joblib_memmaping_pool_8285_139710009253960/8285-139710009295928-c8320333ef89c199cb2d02fd012d0c1e.pkl\n",
      "[CV] reg_lambda=0.012 ................................................\n",
      "Memmaping (shape=(19, 595212), dtype=int64) to old file /dev/shm/joblib_memmaping_pool_8285_139710009253960/8285-139710009295928-03bdd15f4dd52eb08719e21b90244dbe.pkl\n",
      "Pickling array (shape=(17,), dtype=object).\n",
      "Pickling array (shape=(19,), dtype=object).\n",
      "Pickling array (shape=(17,), dtype=int64).\n",
      "Pickling array (shape=(19,), dtype=int64).\n",
      "Memmaping (shape=(595212,), dtype=int64) to old file /dev/shm/joblib_memmaping_pool_8285_139710009253960/8285-139710009295928-398dd08d7946d7598ece4fcdc755b613.pkl\n",
      "Memmaping (shape=(297606,), dtype=int64) to old file /dev/shm/joblib_memmaping_pool_8285_139710009253960/8285-139710009295928-f564ceb6e86b12862f2605b301acae5d.pkl\n",
      "Memmaping (shape=(297606,), dtype=int64) to old file /dev/shm/joblib_memmaping_pool_8285_139710009253960/8285-139710009295928-e3f6c41bad597244b36677ef9378d1e5.pkl\n",
      "Pickling array (shape=(36,), dtype=object).\n",
      "Memmaping (shape=(17, 595212), dtype=float64) to old file /dev/shm/joblib_memmaping_pool_8285_139710009253960/8285-139710009295928-c8320333ef89c199cb2d02fd012d0c1e.pkl\n",
      "[CV] reg_lambda=0.012 ................................................\n",
      "Memmaping (shape=(19, 595212), dtype=int64) to old file /dev/shm/joblib_memmaping_pool_8285_139710009253960/8285-139710009295928-03bdd15f4dd52eb08719e21b90244dbe.pkl\n",
      "Pickling array (shape=(17,), dtype=object).\n",
      "Pickling array (shape=(19,), dtype=object).\n",
      "Pickling array (shape=(17,), dtype=int64).\n",
      "Pickling array (shape=(19,), dtype=int64).\n",
      "Memmaping (shape=(595212,), dtype=int64) to old file /dev/shm/joblib_memmaping_pool_8285_139710009253960/8285-139710009295928-398dd08d7946d7598ece4fcdc755b613.pkl\n",
      "Memmaping (shape=(297606,), dtype=int64) to old file /dev/shm/joblib_memmaping_pool_8285_139710009253960/8285-139710009295928-e3f6c41bad597244b36677ef9378d1e5.pkl\n",
      "Memmaping (shape=(297606,), dtype=int64) to old file /dev/shm/joblib_memmaping_pool_8285_139710009253960/8285-139710009295928-f564ceb6e86b12862f2605b301acae5d.pkl\n",
      "[CV] ....................... reg_lambda=0.004, score=0.635778 - 4.2min\n",
      "[Parallel(n_jobs=32)]: Done   1 tasks      | elapsed:  4.2min\n",
      "[CV] ....................... reg_lambda=0.012, score=0.636219 - 4.3min\n",
      "[Parallel(n_jobs=32)]: Done   2 out of  12 | elapsed:  4.4min remaining: 22.0min\n",
      "[CV] ....................... reg_lambda=0.002, score=0.635927 - 5.3min\n",
      "[Parallel(n_jobs=32)]: Done   3 out of  12 | elapsed:  5.3min remaining: 15.8min\n",
      "[CV] ....................... reg_lambda=0.006, score=0.635787 - 5.3min\n",
      "[Parallel(n_jobs=32)]: Done   4 out of  12 | elapsed:  5.3min remaining: 10.6min\n",
      "[CV] ........................ reg_lambda=0.01, score=0.635865 - 5.3min\n",
      "[Parallel(n_jobs=32)]: Done   5 out of  12 | elapsed:  5.4min remaining:  7.5min\n",
      "[CV] ....................... reg_lambda=0.004, score=0.637973 - 5.4min\n",
      "[Parallel(n_jobs=32)]: Done   6 out of  12 | elapsed:  5.4min remaining:  5.4min\n",
      "[CV] ....................... reg_lambda=0.002, score=0.638202 - 5.4min\n",
      "[CV] ....................... reg_lambda=0.006, score=0.638587 - 5.4min\n",
      "[Parallel(n_jobs=32)]: Done   7 out of  12 | elapsed:  5.4min remaining:  3.9min\n",
      "[Parallel(n_jobs=32)]: Done   8 out of  12 | elapsed:  5.4min remaining:  2.7min\n",
      "[CV] ....................... reg_lambda=0.008, score=0.635826 - 5.3min\n",
      "[Parallel(n_jobs=32)]: Done   9 out of  12 | elapsed:  5.4min remaining:  1.8min\n",
      "[CV] ....................... reg_lambda=0.008, score=0.638162 - 5.4min\n",
      "[Parallel(n_jobs=32)]: Done  10 out of  12 | elapsed:  5.5min remaining:  1.1min\n",
      "[CV] ........................ reg_lambda=0.01, score=0.638554 - 5.4min\n",
      "[CV] ....................... reg_lambda=0.012, score=0.638240 - 5.5min\n",
      "[Parallel(n_jobs=32)]: Done  12 out of  12 | elapsed:  5.6min remaining:    0.0s\n",
      "[Parallel(n_jobs=32)]: Done  12 out of  12 | elapsed:  5.6min finished\n",
      "{'reg_lambda': 0.012}\n",
      "0.6372294934626209\n",
      "CPU times: user 8min 58s, sys: 1.23 s, total: 9min\n",
      "Wall time: 14min 28s\n"
     ]
    }
   ],
   "source": [
    "%%time\n",
    "bestgama = gsearch2.best_params_['gamma']\n",
    "subsampleratio = gsearch3.best_params_['subsample']\n",
    "colsamplebytree = gsearch3.best_params_['colsample_bytree']\n",
    "bestalpha = gsearch4.best_params_['reg_alpha']\n",
    "learnrate = gsearch6.best_params_['learning_rate']\n",
    "\n",
    "model.set_params(subsample = subsampleratio)\n",
    "model.set_params(colsample_bytree = colsamplebytree)\n",
    "model.set_params(n_estimators = 355)\n",
    "model.set_params(max_depth = 7)\n",
    "model.set_params(min_child_weight = 1)\n",
    "model.set_params(gamma = bestgama)\n",
    "model.set_params(reg_alpha = bestalpha)\n",
    "model.set_params(learning_rate = learnrate)\n",
    "\n",
    "param_test7 = {\n",
    "'reg_lambda': [i/1000 for i in range(2,14,2)]\n",
    "}\n",
    "gsearch7 = GridSearchCV(estimator = model, param_grid = param_test7, scoring = 'roc_auc',n_jobs = 32, iid = False, cv = 2, verbose = 200)\n",
    "gsearch7.fit(X,y)\n",
    "print (gsearch7.best_params_)\n",
    "print (gsearch7.best_score_)"
   ]
  },
  {
   "cell_type": "code",
   "execution_count": null,
   "metadata": {
    "collapsed": true
   },
   "outputs": [],
   "source": []
  },
  {
   "cell_type": "code",
   "execution_count": null,
   "metadata": {
    "collapsed": true
   },
   "outputs": [],
   "source": []
  },
  {
   "cell_type": "code",
   "execution_count": null,
   "metadata": {
    "collapsed": true
   },
   "outputs": [],
   "source": []
  },
  {
   "cell_type": "code",
   "execution_count": null,
   "metadata": {
    "collapsed": true
   },
   "outputs": [],
   "source": [
    "# Set up classifier\n",
    "model = XGBClassifier(    \n",
    "                        n_estimators=MAX_ROUNDS,\n",
    "                        max_depth=4,\n",
    "                        objective=\"binary:logistic\",\n",
    "                        learning_rate=LEARNING_RATE, \n",
    "                        subsample=.8,\n",
    "                        min_child_weight=6,\n",
    "                        colsample_bytree=.8,\n",
    "                        scale_pos_weight=1.6,\n",
    "                        gamma=10,\n",
    "                        reg_alpha=8,\n",
    "                        reg_lambda=1.3,\n",
    "                     )"
   ]
  },
  {
   "cell_type": "code",
   "execution_count": null,
   "metadata": {
    "scrolled": false
   },
   "outputs": [],
   "source": [
    "%%time\n",
    "list1 = [17, 42, 159, 267, 379, 589, 1099, 2113, 3127, 4179, 5199, 6001, 7666, 8017, 9527]\n",
    "for rseed in list1:\n",
    "    kf = KFold(n_splits = 5, random_state = rseed, shuffle = True)\n",
    "    for i, (train_index, test_index) in enumerate(kf.split(train_df)):\n",
    "\n",
    "        # Create data for this fold\n",
    "        y_train, y_valid = y.iloc[train_index].copy(), y.iloc[test_index]\n",
    "        X_train, X_valid = X.iloc[train_index,:].copy(), X.iloc[test_index,:].copy()\n",
    "        X_test = test_df.copy()\n",
    "        print( \"\\nFold \", i)\n",
    "\n",
    "        # Enocode data\n",
    "        for f in f_cats:\n",
    "            X_train[f + \"_avg\"], X_valid[f + \"_avg\"], X_test[f + \"_avg\"] = target_encode(\n",
    "                                                            trn_series=X_train[f],\n",
    "                                                            val_series=X_valid[f],\n",
    "                                                            tst_series=X_test[f],\n",
    "                                                            target=y_train,\n",
    "                                                            min_samples_leaf=200,\n",
    "                                                            smoothing=10,\n",
    "                                                            noise_level=0\n",
    "                                                            )\n",
    "        # Run model for this fold\n",
    "        if OPTIMIZE_ROUNDS:\n",
    "            eval_set=[(X_valid,y_valid)]\n",
    "            fit_model = model.fit( X_train, y_train, \n",
    "                                   eval_set=eval_set,\n",
    "                                   eval_metric=gini_xgb,\n",
    "                                   early_stopping_rounds=EARLY_STOPPING_ROUNDS,\n",
    "                                   verbose=False\n",
    "                                 )\n",
    "            print( \"  Best N trees = \", model.best_ntree_limit )\n",
    "            print( \"  Best gini = \", model.best_score )\n",
    "        else:\n",
    "            fit_model = model.fit( X_train, y_train )\n",
    "\n",
    "        # Generate validation predictions for this fold\n",
    "        pred = fit_model.predict_proba(X_valid)[:,1]\n",
    "        print( \"  Gini = \", eval_gini(y_valid, pred) )\n",
    "        y_valid_pred.iloc[test_index] = pred\n",
    "\n",
    "        # Accumulate test set predictions\n",
    "        y_test_pred += fit_model.predict_proba(X_test)[:,1]\n",
    "\n",
    "        del X_test, X_train, X_valid, y_train\n",
    "\n",
    "    y_test_pred /= K  # Average test set predictions\n",
    "\n",
    "    print( \"\\nGini for full training set:\", eval_gini(y, y_valid_pred))\n",
    "    print('+'*50)\n",
    "    \n",
    "    # Save validation predictions for stacking/ensembling\n",
    "    val = pd.DataFrame()\n",
    "    val['id'] = id_train\n",
    "    val['target'] = y_valid_pred.values\n",
    "    val.to_csv('{}_xgbvalid.csv'.format(rseed), float_format='%.6f', index=False)\n",
    "    \n",
    "    # Create submission file\n",
    "    sub = pd.DataFrame()\n",
    "    sub['id'] = id_test\n",
    "    sub['target'] = y_test_pred\n",
    "    sub.to_csv('{}_xgbsub.csv'.format(rseed), float_format='%.6f', index=False)"
   ]
  },
  {
   "cell_type": "code",
   "execution_count": null,
   "metadata": {},
   "outputs": [],
   "source": [
    "!ls 15_fold_xgb"
   ]
  },
  {
   "cell_type": "code",
   "execution_count": null,
   "metadata": {
    "collapsed": true
   },
   "outputs": [],
   "source": [
    "import os\n",
    "csvnames = os.popen('ls 15_fold_xgb').readlines()"
   ]
  },
  {
   "cell_type": "code",
   "execution_count": null,
   "metadata": {},
   "outputs": [],
   "source": [
    "csvnames"
   ]
  },
  {
   "cell_type": "code",
   "execution_count": null,
   "metadata": {},
   "outputs": [],
   "source": [
    "scv1 = csvnames[0].split()\n",
    "scv1\n",
    "str1 = ''.join(scv1)\n",
    "str1[:-4]"
   ]
  },
  {
   "cell_type": "code",
   "execution_count": null,
   "metadata": {
    "collapsed": true
   },
   "outputs": [],
   "source": [
    "total = pd.DataFrame()\n",
    "for csvname in csvnames:\n",
    "    csvname1 = csvname.split()\n",
    "    str1 = ''.join(csvname1)[:-4]\n",
    "    sub = pd.read_csv('15_fold_xgb/{}.csv'.format(str1))\n",
    "    total[str1] = sub['target']"
   ]
  },
  {
   "cell_type": "code",
   "execution_count": null,
   "metadata": {},
   "outputs": [],
   "source": [
    "total.info()"
   ]
  },
  {
   "cell_type": "code",
   "execution_count": null,
   "metadata": {},
   "outputs": [],
   "source": [
    "total['mean'] = total.mean(axis=1)\n",
    "total['variance'] = total.std(axis=1)\n",
    "total.head()"
   ]
  },
  {
   "cell_type": "code",
   "execution_count": null,
   "metadata": {
    "collapsed": true
   },
   "outputs": [],
   "source": [
    "test_sub2 = pd.read_csv('input/test.csv',usecols=['id'])\n",
    "test_sub2['target'] =  total['mean']"
   ]
  },
  {
   "cell_type": "code",
   "execution_count": null,
   "metadata": {
    "collapsed": true
   },
   "outputs": [],
   "source": [
    "test_sub2.to_csv('mean_15_fold_xgb.csv',index=False)"
   ]
  },
  {
   "cell_type": "code",
   "execution_count": null,
   "metadata": {},
   "outputs": [],
   "source": [
    "%matplotlib inline\n",
    "import matplotlib\n",
    "import matplotlib.pyplot as plt\n",
    "\n",
    "total['variance'].plot(style='.')"
   ]
  },
  {
   "cell_type": "code",
   "execution_count": null,
   "metadata": {},
   "outputs": [],
   "source": [
    "total['mean'].plot(style='.')"
   ]
  },
  {
   "cell_type": "code",
   "execution_count": null,
   "metadata": {
    "collapsed": true
   },
   "outputs": [],
   "source": []
  }
 ],
 "metadata": {
  "anaconda-cloud": {},
  "kernelspec": {
   "display_name": "Python 3",
   "language": "python",
   "name": "python3"
  },
  "language_info": {
   "codemirror_mode": {
    "name": "ipython",
    "version": 3
   },
   "file_extension": ".py",
   "mimetype": "text/x-python",
   "name": "python",
   "nbconvert_exporter": "python",
   "pygments_lexer": "ipython3",
   "version": "3.6.1"
  }
 },
 "nbformat": 4,
 "nbformat_minor": 1
}
